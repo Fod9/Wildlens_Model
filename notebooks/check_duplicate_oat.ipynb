{
 "cells": [
  {
   "cell_type": "code",
   "execution_count": 45,
   "id": "initial_id",
   "metadata": {
    "collapsed": true
   },
   "outputs": [],
   "source": [
    "import numpy as np\n",
    "import cv2\n",
    "import os\n",
    "import hashlib"
   ]
  },
  {
   "cell_type": "code",
   "execution_count": 46,
   "id": "3607d62e",
   "metadata": {},
   "outputs": [],
   "source": [
    "hash_list = []"
   ]
  },
  {
   "cell_type": "code",
   "execution_count": 47,
   "id": "cb6eccf3",
   "metadata": {},
   "outputs": [],
   "source": [
    "for root, dirs, files in os.walk(\"../data/OpenAnimalTracks/raw_imgs\"):\n",
    "    for file in files:  \n",
    "        if os.path.splitext(file)[1] not in [\".png\", \".jpg\", \".jpeg\"]:\n",
    "            continue\n",
    "\n",
    "        file_path = os.path.join(root, file)\n",
    "        img = cv2.imread(file_path, cv2.IMREAD_COLOR_RGB)\n",
    "        hash_list.append(hashlib.md5(img).hexdigest())\n",
    "        "
   ]
  },
  {
   "cell_type": "code",
   "execution_count": 49,
   "id": "e6394b0e",
   "metadata": {},
   "outputs": [],
   "source": [
    "dest_path = \"/home/shared/Wildlens/full_dataset_wildlens/dataset_no_oat\"\n",
    "\n",
    "for root, dirs, files in os.walk(\"../data/dataset\"):\n",
    "    count = 0\n",
    "    for file in files:  \n",
    "        if os.path.splitext(file)[1] not in [\".png\", \".jpg\", \".jpeg\"]:\n",
    "            continue\n",
    "\n",
    "        file_path = os.path.join(root, file)\n",
    "        filename = file.split(\"/\")[-1]\n",
    "        img = cv2.imread(file_path, cv2.IMREAD_COLOR_RGB)\n",
    "        hash = hashlib.md5(img).hexdigest()\n",
    "        if hash not in hash_list:\n",
    "            dirname = root.split(\"/\")[-1]\n",
    "            folder_path = os.path.join(\"/home/shared/Wildlens/full_dataset_wildlens/dataset_no_oat/\" + dirname)\n",
    "            if not os.path.exists(folder_path):\n",
    "                os.mkdir(folder_path)\n",
    "\n",
    "            file_path = os.path.join(folder_path, filename )\n",
    "            cv2.imwrite(file_path, cv2.cvtColor(img, cv2.COLOR_BGR2RGB) )\n",
    "    \n",
    "\n"
   ]
  },
  {
   "cell_type": "code",
   "execution_count": null,
   "id": "de2f9c4e",
   "metadata": {},
   "outputs": [],
   "source": []
  }
 ],
 "metadata": {
  "kernelspec": {
   "display_name": "tf",
   "language": "python",
   "name": "python3"
  },
  "language_info": {
   "codemirror_mode": {
    "name": "ipython",
    "version": 3
   },
   "file_extension": ".py",
   "mimetype": "text/x-python",
   "name": "python",
   "nbconvert_exporter": "python",
   "pygments_lexer": "ipython3",
   "version": "3.12.0"
  }
 },
 "nbformat": 4,
 "nbformat_minor": 5
}
