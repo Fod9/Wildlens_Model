{
 "cells": [
  {
   "cell_type": "code",
   "execution_count": 96,
   "id": "61af9a29",
   "metadata": {
    "jupyter": {
     "is_executing": true
    }
   },
   "outputs": [],
   "source": [
    "import cv2\n",
    "import matplotlib.pyplot as plt\n",
    "import numpy as np\n",
    "from sklearn.feature_extraction import image\n",
    "import os\n"
   ]
  },
  {
   "cell_type": "code",
   "execution_count": 97,
   "id": "6f428abf",
   "metadata": {},
   "outputs": [],
   "source": [
    "img_folder = \"../data/base\""
   ]
  },
  {
   "cell_type": "code",
   "execution_count": 101,
   "id": "9eaea0a3",
   "metadata": {},
   "outputs": [],
   "source": [
    "class PawImageEnhancer:\n",
    "    def __init__(self, folder):\n",
    "        self.base_folder = folder\n",
    "\n",
    "    def enhance_contrast(self, img):\n",
    "        gray_img = cv2.cvtColor(img, cv2.COLOR_RGB2GRAY)\n",
    "        equalized = cv2.equalizeHist(gray_img)\n",
    "        return equalized\n",
    "    \n",
    "    def process_all_files(self, base_output_folder: str):\n",
    "        files_processed = {}\n",
    "\n",
    "        for root, dirs, files in os.walk(self.base_folder):\n",
    "            for file in files:\n",
    "                file_path = os.path.join(root, file)\n",
    "                dirname = root.split(\"/\")[-1]\n",
    "                \n",
    "                img = cv2.imread(file_path, cv2.IMREAD_COLOR_RGB)\n",
    "                enhance_contrast = self.enhance_contrast(img)\n",
    "\n",
    "\n",
    "                output_folder = os.path.join(base_output_folder, dirname)\n",
    "                if not os.path.exists(output_folder):\n",
    "                    os.mkdir(output_folder)\n",
    "                if dirname not in files_processed:\n",
    "                    files_processed[dirname] = 0\n",
    "                files_processed[dirname] += 1\n",
    "                cv2.imwrite(os.path.join(output_folder, file),enhance_contrast)\n",
    "\n",
    "        print(files_processed)\n",
    "            \n",
    "    \n"
   ]
  },
  {
   "cell_type": "code",
   "execution_count": 102,
   "id": "9bd454ff",
   "metadata": {},
   "outputs": [],
   "source": [
    "enhancer = PawImageEnhancer(img_folder)"
   ]
  },
  {
   "cell_type": "code",
   "execution_count": 103,
   "id": "a257f1a8",
   "metadata": {},
   "outputs": [
    {
     "name": "stdout",
     "output_type": "stream",
     "text": [
      "{'lynx': 161, 'ours': 161, 'chien': 161, 'chat': 161, 'coyotte': 161, 'ecureuil': 161, 'rat': 161, 'renard': 161, 'loup': 161, 'lapin': 161, 'raton_laveur': 161, 'puma': 161, 'castor': 161}\n"
     ]
    }
   ],
   "source": [
    "enhancer.process_all_files(\"../data/preprocessing_tests/test_contrast\")"
   ]
  },
  {
   "cell_type": "code",
   "execution_count": null,
   "id": "9553f92b",
   "metadata": {},
   "outputs": [],
   "source": []
  }
 ],
 "metadata": {
  "kernelspec": {
   "display_name": "tf",
   "language": "python",
   "name": "python3"
  },
  "language_info": {
   "codemirror_mode": {
    "name": "ipython",
    "version": 3
   },
   "file_extension": ".py",
   "mimetype": "text/x-python",
   "name": "python",
   "nbconvert_exporter": "python",
   "pygments_lexer": "ipython3",
   "version": "3.12.0"
  }
 },
 "nbformat": 4,
 "nbformat_minor": 5
}
