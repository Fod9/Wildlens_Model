{
 "cells": [
  {
   "cell_type": "code",
   "execution_count": 25,
   "id": "61af9a29",
   "metadata": {
    "jupyter": {
     "is_executing": true
    }
   },
   "outputs": [],
   "source": [
    "import cv2\n",
    "import matplotlib.pyplot as plt\n",
    "import numpy as np\n",
    "from sklearn.feature_extraction import image\n",
    "from scipy import ndimage\n",
    "from scipy import ndimage\n",
    "from skimage import exposure, filters, morphology, segmentation\n",
    "from sklearn.cluster import KMeans"
   ]
  },
  {
   "cell_type": "code",
   "execution_count": 2,
   "id": "6f428abf",
   "metadata": {},
   "outputs": [],
   "source": [
    "img_folder = \"/home/shared/Wildlens/full_dataset_wildlens/dataset_equalized/\""
   ]
  },
  {
   "cell_type": "code",
   "execution_count": null,
   "id": "03c61538",
   "metadata": {},
   "outputs": [],
   "source": []
  }
 ],
 "metadata": {
  "kernelspec": {
   "display_name": "tf",
   "language": "python",
   "name": "python3"
  },
  "language_info": {
   "codemirror_mode": {
    "name": "ipython",
    "version": 3
   },
   "file_extension": ".py",
   "mimetype": "text/x-python",
   "name": "python",
   "nbconvert_exporter": "python",
   "pygments_lexer": "ipython3",
   "version": "3.12.0"
  }
 },
 "nbformat": 4,
 "nbformat_minor": 5
}
