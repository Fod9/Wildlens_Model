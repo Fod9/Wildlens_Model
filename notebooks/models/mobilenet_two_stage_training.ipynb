{
 "cells": [
  {
   "metadata": {},
   "cell_type": "markdown",
   "source": [
    "# MobileNet Two-Stage Training Pipeline\n",
    "\n",
    "Implementation of the two-stage MobileNet training pipeline with mandatory YOLO preprocessing as specified in MobileNet_training.md.\n",
    "\n",
    "## Pipeline Overview:\n",
    "1. **Stage 1**: Train MobileNet on OAT dataset (18 classes) with YOLO preprocessing\n",
    "2. **Stage 2**: Fine-tune on Real dataset (13 classes) with architecture adaptation\n",
    "\n",
    "## Key Features:\n",
    "- Mandatory YOLO preprocessing for footprint detection and cropping\n",
    "- Proper architecture adaptation between stages (18→13 classes)\n",
    "- Backbone weight transfer with classification head rebuilding\n",
    "- Comprehensive evaluation and visualization"
   ]
  },
  {
   "metadata": {},
   "cell_type": "markdown",
   "source": ""
  },
  {
   "cell_type": "markdown",
   "metadata": {},
   "source": [
    "## Setup and Imports"
   ]
  },
  {
   "metadata": {
    "ExecuteTime": {
     "end_time": "2025-07-03T12:27:44.302570Z",
     "start_time": "2025-07-03T12:27:43.094660Z"
    }
   },
   "cell_type": "code",
   "source": [
    "import tensorflow as tf\n",
    "import keras\n",
    "import numpy as np\n",
    "import matplotlib.pyplot as plt\n",
    "import seaborn as sns\n",
    "from keras import Input\n",
    "from keras.src.utils import image_dataset_from_directory\n",
    "from sklearn.metrics import confusion_matrix, classification_report\n",
    "from sklearn.model_selection import train_test_split\n",
    "import os\n",
    "import sys\n",
    "from pathlib import Path\n",
    "from PIL import Image\n",
    "\n",
    "\n",
    "\n",
    "# Add project root to path for imports\n",
    "project_root = Path().resolve().parent.parent\n",
    "sys.path.append(str(project_root))\n"
   ],
   "outputs": [
    {
     "name": "stderr",
     "output_type": "stream",
     "text": [
      "2025-07-03 14:27:43.242532: I tensorflow/core/util/port.cc:153] oneDNN custom operations are on. You may see slightly different numerical results due to floating-point round-off errors from different computation orders. To turn them off, set the environment variable `TF_ENABLE_ONEDNN_OPTS=0`.\n",
      "2025-07-03 14:27:43.255267: E external/local_xla/xla/stream_executor/cuda/cuda_fft.cc:477] Unable to register cuFFT factory: Attempting to register factory for plugin cuFFT when one has already been registered\n",
      "WARNING: All log messages before absl::InitializeLog() is called are written to STDERR\n",
      "E0000 00:00:1751545663.269442 2475562 cuda_dnn.cc:8310] Unable to register cuDNN factory: Attempting to register factory for plugin cuDNN when one has already been registered\n",
      "E0000 00:00:1751545663.273839 2475562 cuda_blas.cc:1418] Unable to register cuBLAS factory: Attempting to register factory for plugin cuBLAS when one has already been registered\n",
      "2025-07-03 14:27:43.292558: I tensorflow/core/platform/cpu_feature_guard.cc:210] This TensorFlow binary is optimized to use available CPU instructions in performance-critical operations.\n",
      "To enable the following instructions: AVX2 AVX512F AVX512_VNNI AVX512_BF16 FMA, in other operations, rebuild TensorFlow with the appropriate compiler flags.\n"
     ]
    }
   ],
   "execution_count": 1
  },
  {
   "cell_type": "markdown",
   "metadata": {},
   "source": [
    "## GPU Configuration"
   ]
  },
  {
   "cell_type": "code",
   "metadata": {
    "ExecuteTime": {
     "end_time": "2025-07-03T12:27:45.565691Z",
     "start_time": "2025-07-03T12:27:45.504953Z"
    }
   },
   "source": [
    "# Configure GPU\n",
    "gpus = tf.config.experimental.list_physical_devices(\"GPU\")\n",
    "if gpus:\n",
    "    try:\n",
    "        for gpu in gpus:\n",
    "            tf.config.experimental.set_memory_growth(gpu, True)\n",
    "        print(f\"GPU detected: {len(gpus)} device(s)\")\n",
    "    except RuntimeError as e:\n",
    "        print(f\"GPU configuration error: {e}\")\n",
    "else:\n",
    "    print(\"No GPU detected, using CPU\")\n",
    "\n",
    "print(f\"TensorFlow version: {tf.__version__}\")\n",
    "print(f\"Keras version: {keras.__version__}\")"
   ],
   "execution_count": 2,
   "outputs": [
    {
     "name": "stdout",
     "output_type": "stream",
     "text": [
      "GPU detected: 1 device(s)\n",
      "TensorFlow version: 2.18.0\n",
      "Keras version: 3.7.0\n"
     ]
    }
   ]
  },
  {
   "cell_type": "markdown",
   "metadata": {},
   "source": [
    "## YOLO Preprocessing Setup"
   ]
  },
  {
   "metadata": {
    "ExecuteTime": {
     "end_time": "2025-07-03T12:27:47.227524Z",
     "start_time": "2025-07-03T12:27:47.129812Z"
    }
   },
   "cell_type": "code",
   "source": [
    "# Initialize YOLO inference for preprocessing\n",
    "from scripts.yolo_finetuning.yolo_inference_onnx import YOLOONNXInference\n",
    "\n",
    "yolo_model_path = \"../yolo/best_so_far.onnx\"\n",
    "yolo_inference = YOLOONNXInference(\n",
    "    model_path=yolo_model_path,\n",
    "    conf_threshold=0.1,\n",
    ")\n",
    "print(\"YOLO inference initialized for preprocessing\")"
   ],
   "outputs": [
    {
     "name": "stdout",
     "output_type": "stream",
     "text": [
      "YOLO inference initialized for preprocessing\n"
     ]
    }
   ],
   "execution_count": 3
  },
  {
   "cell_type": "markdown",
   "metadata": {},
   "source": [
    "## Data Preprocessing Functions"
   ]
  },
  {
   "metadata": {
    "ExecuteTime": {
     "end_time": "2025-07-03T12:27:48.844207Z",
     "start_time": "2025-07-03T12:27:48.833106Z"
    }
   },
   "cell_type": "code",
   "source": [
    "def preprocess_image_with_yolo(image_path, target_size=(224, 224)):\n",
    "    try:\n",
    "        # Convert tensor to string if needed\n",
    "        if isinstance(image_path, tf.Tensor):\n",
    "            image_path = image_path.numpy().decode('utf-8')\n",
    "        elif isinstance(image_path, bytes):\n",
    "            image_path = image_path.decode('utf-8')\n",
    "        \n",
    "        # Get YOLO crop - this returns a tuple (bbox, cropped_image)\n",
    "        res = yolo_inference.infer_and_get_best_crop(str(image_path))\n",
    "        # get the cropped image (numpy array) if available, else use the original image\n",
    "        bbox, cropped_img = res if res is not None else None\n",
    "\n",
    "        image = Image.fromarray(cropped_img) if res is not None else Image.open(image_path)\n",
    "\n",
    "\n",
    "        image = image.resize(target_size)\n",
    "\n",
    "        if image.mode != 'RGB':\n",
    "                image = image.convert('RGB')\n",
    "\n",
    "        image_array = np.array(image, dtype=np.float32)\n",
    "\n",
    "        return image_array\n",
    "    \n",
    "    except Exception as e:\n",
    "        print(f\"Error processing {image_path}: {e}\")\n",
    "        # Return a black image as fallback\n",
    "        return np.zeros((*target_size, 3), dtype=np.float32)\n",
    "\n",
    "def preprocess_image_simple(image_path, target_size=(224, 224)):\n",
    "    \"\"\"Simple preprocessing without YOLO - just center crop and resize\"\"\"\n",
    "    try:\n",
    "        # Convert tensor to string if needed\n",
    "        if isinstance(image_path, tf.Tensor):\n",
    "            image_path = image_path.numpy().decode('utf-8')\n",
    "        elif isinstance(image_path, bytes):\n",
    "            image_path = image_path.decode('utf-8')\n",
    "\n",
    "        # Load image\n",
    "        image = Image.open(image_path)\n",
    "\n",
    "        # Center crop to square\n",
    "        min_dim = min(image.size)\n",
    "        left = (image.size[0] - min_dim) // 2\n",
    "        top = (image.size[1] - min_dim) // 2\n",
    "        image = image.crop((left, top, left + min_dim, top + min_dim))\n",
    "\n",
    "        # Resize to target size\n",
    "        image = image.resize(target_size)\n",
    "\n",
    "        # Convert to RGB if needed\n",
    "        if image.mode != 'RGB':\n",
    "            image = image.convert('RGB')\n",
    "\n",
    "        # Convert to numpy array and normalize\n",
    "        image_array = np.array(image, dtype=np.float32)\n",
    "        image_array = image_array / 255.0\n",
    "\n",
    "        return image_array\n",
    "\n",
    "    except Exception as e:\n",
    "        print(f\"Error processing {image_path}: {e}\")\n",
    "        # Return a black image as fallback\n",
    "        return np.zeros((*target_size, 3), dtype=np.float32)\n",
    "\n",
    "def create_yolo_preprocessed_dataset(data_dir, class_names, batch_size=16, shuffle=True):\n",
    "    def load_and_preprocess_image(path, label):\n",
    "        image = tf.py_function(\n",
    "            func=preprocess_image_with_yolo,\n",
    "            inp=[path],\n",
    "            Tout=tf.float32\n",
    "        )\n",
    "        image.set_shape([224, 224, 3])\n",
    "        return image, label\n",
    "    \n",
    "    # Get all image paths and labels\n",
    "    image_paths = []\n",
    "    labels = []\n",
    "    \n",
    "    for class_idx, class_name in enumerate(class_names):\n",
    "        class_dir = os.path.join(data_dir, class_name)\n",
    "        if os.path.exists(class_dir):\n",
    "            for img_file in os.listdir(class_dir):\n",
    "                if img_file.lower().endswith(('.png', '.jpg', '.jpeg')):\n",
    "                    image_paths.append(os.path.join(class_dir, img_file))\n",
    "                    labels.append(class_idx)\n",
    "    \n",
    "    print(f\"Found {len(image_paths)} images across {len(class_names)} classes\")\n",
    "    \n",
    "    # Create dataset\n",
    "    dataset = tf.data.Dataset.from_tensor_slices((image_paths, labels))\n",
    "    \n",
    "    if shuffle:\n",
    "        dataset = dataset.shuffle(len(image_paths))\n",
    "    \n",
    "    dataset = dataset.map(load_and_preprocess_image, num_parallel_calls=tf.data.AUTOTUNE)\n",
    "    dataset = dataset.batch(batch_size)\n",
    "    dataset = dataset.prefetch(tf.data.AUTOTUNE)\n",
    "    \n",
    "    return dataset\n",
    "\n",
    "def create_stratified_split_dataset(data_dir, class_names, batch_size=16, train_split=0.8, seed=42, use_yolo_preprocessing=True):\n",
    "    # Choose preprocessing function based on flag\n",
    "    if use_yolo_preprocessing:\n",
    "        preprocess_func = preprocess_image_with_yolo\n",
    "        print(\"Using YOLO preprocessing\")\n",
    "    else:\n",
    "        preprocess_func = preprocess_image_simple\n",
    "        print(\"Using simple preprocessing (no YOLO)\")\n",
    "    \n",
    "    def load_and_preprocess_image(path, label):\n",
    "        image = tf.py_function(\n",
    "            func=preprocess_func,\n",
    "            inp=[path],\n",
    "            Tout=tf.float32\n",
    "        )\n",
    "        image.set_shape([224, 224, 3])\n",
    "        return image, label\n",
    "    \n",
    "    # Debug: Check data directory\n",
    "    print(f\"Loading data from: {os.path.abspath(data_dir)}\")\n",
    "    print(f\"Directory exists: {os.path.exists(data_dir)}\")\n",
    "    \n",
    "    # Get all image paths and labels\n",
    "    image_paths = []\n",
    "    labels = []\n",
    "    \n",
    "    for class_idx, class_name in enumerate(class_names):\n",
    "        class_dir = os.path.join(data_dir, class_name)\n",
    "        \n",
    "        if os.path.exists(class_dir):\n",
    "            class_images = []\n",
    "            for img_file in os.listdir(class_dir):\n",
    "                if img_file.lower().endswith(('.png', '.jpg', '.jpeg')):\n",
    "                    class_images.append(os.path.join(class_dir, img_file))\n",
    "            \n",
    "            print(f\"Class {class_name} (idx {class_idx}): {len(class_images)} images\")\n",
    "            \n",
    "            if len(class_images) == 0:\n",
    "                print(f\"WARNING: No images found for class {class_name}!\")\n",
    "                continue\n",
    "                \n",
    "            image_paths.extend(class_images)\n",
    "            labels.extend([class_idx] * len(class_images))\n",
    "        else:\n",
    "            print(f\"ERROR: Directory not found for class {class_name}: {class_dir}\")\n",
    "    \n",
    "    print(f\"Total: {len(image_paths)} images across {len(class_names)} classes\")\n",
    "    \n",
    "    if len(image_paths) == 0:\n",
    "        raise ValueError(\"No images found! Check the data directory path.\")\n",
    "    \n",
    "    # Check for empty classes\n",
    "    unique_labels = set(labels)\n",
    "    if len(unique_labels) != len(class_names):\n",
    "        missing_classes = set(range(len(class_names))) - unique_labels\n",
    "        print(f\"WARNING: Missing classes: {[class_names[i] for i in missing_classes]}\")\n",
    "    \n",
    "    # Stratified split at image level\n",
    "    try:\n",
    "        train_paths, val_paths, train_labels, val_labels = train_test_split(\n",
    "            image_paths, labels, \n",
    "            test_size=1-train_split, \n",
    "            stratify=labels, \n",
    "            random_state=seed\n",
    "        )\n",
    "    except ValueError as e:\n",
    "        print(f\"Stratified split failed: {e}\")\n",
    "        print(\"Label distribution:\")\n",
    "        import numpy as np\n",
    "        label_counts = np.bincount(labels, minlength=len(class_names))\n",
    "        for i, (class_name, count) in enumerate(zip(class_names, label_counts)):\n",
    "            print(f\"  {class_name}: {count} images\")\n",
    "        raise\n",
    "    \n",
    "    print(f\"Train: {len(train_paths)} images, Val: {len(val_paths)} images\")\n",
    "    \n",
    "    # Print class distribution\n",
    "    import numpy as np\n",
    "    train_class_counts = np.bincount(train_labels, minlength=len(class_names))\n",
    "    val_class_counts = np.bincount(val_labels, minlength=len(class_names))\n",
    "    \n",
    "    print(\"\\nClass distribution:\")\n",
    "    for i, class_name in enumerate(class_names):\n",
    "        print(f\"  {class_name}: Train={train_class_counts[i]}, Val={val_class_counts[i]}\")\n",
    "    \n",
    "    # Create datasets\n",
    "    train_ds = tf.data.Dataset.from_tensor_slices((train_paths, train_labels))\n",
    "    train_ds = train_ds.shuffle(len(train_paths), seed=seed)\n",
    "    train_ds = train_ds.map(load_and_preprocess_image, num_parallel_calls=tf.data.AUTOTUNE)\n",
    "    train_ds = train_ds.batch(batch_size)\n",
    "    train_ds = train_ds.prefetch(tf.data.AUTOTUNE)\n",
    "    \n",
    "    val_ds = tf.data.Dataset.from_tensor_slices((val_paths, val_labels))\n",
    "    val_ds = val_ds.map(load_and_preprocess_image, num_parallel_calls=tf.data.AUTOTUNE)\n",
    "    val_ds = val_ds.batch(batch_size)\n",
    "    val_ds = val_ds.prefetch(tf.data.AUTOTUNE)\n",
    "    \n",
    "    return train_ds, val_ds"
   ],
   "outputs": [],
   "execution_count": 4
  },
  {
   "cell_type": "markdown",
   "metadata": {},
   "source": [
    "## Stage 1: OAT Dataset Training (18 classes)"
   ]
  },
  {
   "cell_type": "code",
   "metadata": {
    "ExecuteTime": {
     "end_time": "2025-07-03T12:27:50.120516Z",
     "start_time": "2025-07-03T12:27:50.117285Z"
    }
   },
   "source": [
    "# OAT dataset paths\n",
    "oat_base_path = \"../../data/OpenAnimalTracks/cropped_imgs\"\n",
    "oat_train_path = os.path.join(oat_base_path, \"train\")\n",
    "oat_val_path = os.path.join(oat_base_path, \"val\")\n",
    "oat_test_path = os.path.join(oat_base_path, \"test\")\n",
    "\n",
    "oat_class_names = sorted([d for d in os.listdir(oat_train_path)\n",
    "                         if os.path.isdir(os.path.join(oat_train_path, d))])\n",
    "print(f\"OAT classes ({len(oat_class_names)}): {oat_class_names}\")"
   ],
   "outputs": [
    {
     "name": "stdout",
     "output_type": "stream",
     "text": [
      "OAT classes (18): ['beaver', 'black_bear', 'bob_cat', 'coyote', 'elephant', 'goose', 'gray_fox', 'horse', 'lion', 'mink', 'mouse', 'muledeer', 'otter', 'raccoon', 'rat', 'skunk', 'turkey', 'western_grey_squirrel']\n"
     ]
    }
   ],
   "execution_count": 5
  },
  {
   "metadata": {
    "ExecuteTime": {
     "end_time": "2025-07-03T12:27:51.909308Z",
     "start_time": "2025-07-03T12:27:50.870920Z"
    }
   },
   "cell_type": "code",
   "source": [
    "# Create OAT datasets with YOLO preprocessing\n",
    "print(\"Creating OAT training dataset with YOLO preprocessing\")\n",
    "oat_train_ds = image_dataset_from_directory(\n",
    "    oat_train_path,\n",
    "    image_size=(224, 224),\n",
    "    batch_size=16,\n",
    "    shuffle=True,\n",
    ")\n",
    "\n",
    "print(\"Creating OAT validation dataset with YOLO preprocessing\")\n",
    "oat_val_ds = image_dataset_from_directory(\n",
    "    oat_val_path,\n",
    "    image_size=(224, 224),\n",
    "    batch_size=16,\n",
    "    shuffle=True,\n",
    ")\n",
    "\n",
    "print(\"Creating OAT test dataset with YOLO preprocessing\")\n",
    "oat_test_ds = image_dataset_from_directory(\n",
    "    oat_test_path,\n",
    "    image_size=(224, 224),\n",
    "    batch_size=16,\n",
    "    shuffle=True,\n",
    ")"
   ],
   "outputs": [
    {
     "name": "stdout",
     "output_type": "stream",
     "text": [
      "Creating OAT training dataset with YOLO preprocessing\n",
      "Found 2514 files belonging to 18 classes.\n"
     ]
    },
    {
     "name": "stderr",
     "output_type": "stream",
     "text": [
      "I0000 00:00:1751545671.091765 2475562 gpu_device.cc:2022] Created device /job:localhost/replica:0/task:0/device:GPU:0 with 20945 MB memory:  -> device: 0, name: NVIDIA GeForce RTX 4090, pci bus id: 0000:01:00.0, compute capability: 8.9\n"
     ]
    },
    {
     "name": "stdout",
     "output_type": "stream",
     "text": [
      "Creating OAT validation dataset with YOLO preprocessing\n",
      "Found 346 files belonging to 18 classes.\n",
      "Creating OAT test dataset with YOLO preprocessing\n",
      "Found 719 files belonging to 18 classes.\n"
     ]
    }
   ],
   "execution_count": 6
  },
  {
   "metadata": {
    "ExecuteTime": {
     "end_time": "2025-07-03T12:27:52.957794Z",
     "start_time": "2025-07-03T12:27:51.958005Z"
    }
   },
   "cell_type": "code",
   "source": [
    "# Data augmentation for Stage 1\n",
    "data_augmentation = keras.Sequential([\n",
    "  keras.layers.Input(shape=(224, 224, 3)),\n",
    "  keras.layers.RandomFlip(\"horizontal\"),\n",
    "  keras.layers.RandomRotation(0.1),\n",
    "  keras.layers.RandomZoom(0.1),\n",
    "  keras.layers.RandomContrast(0.1),\n",
    "])\n",
    "# Create MobileNet base model\n",
    "mobilenet_base = keras.applications.MobileNetV3Small(\n",
    "    input_shape=(224, 224, 3),\n",
    "    include_top=False,\n",
    "    weights=\"imagenet\"\n",
    ")\n",
    "\n",
    "# Freeze base model for Stage 1\n",
    "mobilenet_base.trainable = False\n",
    "\n",
    "# Build Stage 1 model (18 classes)\n",
    "stage1_model = keras.Sequential([\n",
    "    data_augmentation,\n",
    "    mobilenet_base,\n",
    "    keras.layers.GlobalAveragePooling2D(),\n",
    "    keras.layers.Dense(512, activation=\"relu\", kernel_regularizer=keras.regularizers.l2(0.01)),\n",
    "    keras.layers.Dropout(0.3),\n",
    "    keras.layers.BatchNormalization(),\n",
    "    keras.layers.Dense(256, activation=\"relu\", kernel_regularizer=keras.regularizers.l2(0.01)),\n",
    "    keras.layers.Dropout(0.3),\n",
    "    keras.layers.Dense(18, activation=\"softmax\", name=\"oat_classifier\")\n",
    "], name=\"stage1_oat_model\")\n",
    "\n",
    "print(\"Stage 1 model architecture:\")\n",
    "stage1_model.summary()"
   ],
   "outputs": [
    {
     "name": "stdout",
     "output_type": "stream",
     "text": [
      "Stage 1 model architecture:\n"
     ]
    },
    {
     "data": {
      "text/plain": [
       "\u001B[1mModel: \"stage1_oat_model\"\u001B[0m\n"
      ],
      "text/html": [
       "<pre style=\"white-space:pre;overflow-x:auto;line-height:normal;font-family:Menlo,'DejaVu Sans Mono',consolas,'Courier New',monospace\"><span style=\"font-weight: bold\">Model: \"stage1_oat_model\"</span>\n",
       "</pre>\n"
      ]
     },
     "metadata": {},
     "output_type": "display_data"
    },
    {
     "data": {
      "text/plain": [
       "┏━━━━━━━━━━━━━━━━━━━━━━━━━━━━━━━━━┳━━━━━━━━━━━━━━━━━━━━━━━━┳━━━━━━━━━━━━━━━┓\n",
       "┃\u001B[1m \u001B[0m\u001B[1mLayer (type)                   \u001B[0m\u001B[1m \u001B[0m┃\u001B[1m \u001B[0m\u001B[1mOutput Shape          \u001B[0m\u001B[1m \u001B[0m┃\u001B[1m \u001B[0m\u001B[1m      Param #\u001B[0m\u001B[1m \u001B[0m┃\n",
       "┡━━━━━━━━━━━━━━━━━━━━━━━━━━━━━━━━━╇━━━━━━━━━━━━━━━━━━━━━━━━╇━━━━━━━━━━━━━━━┩\n",
       "│ sequential (\u001B[38;5;33mSequential\u001B[0m)         │ (\u001B[38;5;45mNone\u001B[0m, \u001B[38;5;34m224\u001B[0m, \u001B[38;5;34m224\u001B[0m, \u001B[38;5;34m3\u001B[0m)    │             \u001B[38;5;34m0\u001B[0m │\n",
       "├─────────────────────────────────┼────────────────────────┼───────────────┤\n",
       "│ MobileNetV3Small (\u001B[38;5;33mFunctional\u001B[0m)   │ (\u001B[38;5;45mNone\u001B[0m, \u001B[38;5;34m7\u001B[0m, \u001B[38;5;34m7\u001B[0m, \u001B[38;5;34m576\u001B[0m)      │       \u001B[38;5;34m939,120\u001B[0m │\n",
       "├─────────────────────────────────┼────────────────────────┼───────────────┤\n",
       "│ global_average_pooling2d        │ (\u001B[38;5;45mNone\u001B[0m, \u001B[38;5;34m576\u001B[0m)            │             \u001B[38;5;34m0\u001B[0m │\n",
       "│ (\u001B[38;5;33mGlobalAveragePooling2D\u001B[0m)        │                        │               │\n",
       "├─────────────────────────────────┼────────────────────────┼───────────────┤\n",
       "│ dense (\u001B[38;5;33mDense\u001B[0m)                   │ (\u001B[38;5;45mNone\u001B[0m, \u001B[38;5;34m512\u001B[0m)            │       \u001B[38;5;34m295,424\u001B[0m │\n",
       "├─────────────────────────────────┼────────────────────────┼───────────────┤\n",
       "│ dropout (\u001B[38;5;33mDropout\u001B[0m)               │ (\u001B[38;5;45mNone\u001B[0m, \u001B[38;5;34m512\u001B[0m)            │             \u001B[38;5;34m0\u001B[0m │\n",
       "├─────────────────────────────────┼────────────────────────┼───────────────┤\n",
       "│ batch_normalization             │ (\u001B[38;5;45mNone\u001B[0m, \u001B[38;5;34m512\u001B[0m)            │         \u001B[38;5;34m2,048\u001B[0m │\n",
       "│ (\u001B[38;5;33mBatchNormalization\u001B[0m)            │                        │               │\n",
       "├─────────────────────────────────┼────────────────────────┼───────────────┤\n",
       "│ dense_1 (\u001B[38;5;33mDense\u001B[0m)                 │ (\u001B[38;5;45mNone\u001B[0m, \u001B[38;5;34m256\u001B[0m)            │       \u001B[38;5;34m131,328\u001B[0m │\n",
       "├─────────────────────────────────┼────────────────────────┼───────────────┤\n",
       "│ dropout_1 (\u001B[38;5;33mDropout\u001B[0m)             │ (\u001B[38;5;45mNone\u001B[0m, \u001B[38;5;34m256\u001B[0m)            │             \u001B[38;5;34m0\u001B[0m │\n",
       "├─────────────────────────────────┼────────────────────────┼───────────────┤\n",
       "│ oat_classifier (\u001B[38;5;33mDense\u001B[0m)          │ (\u001B[38;5;45mNone\u001B[0m, \u001B[38;5;34m18\u001B[0m)             │         \u001B[38;5;34m4,626\u001B[0m │\n",
       "└─────────────────────────────────┴────────────────────────┴───────────────┘\n"
      ],
      "text/html": [
       "<pre style=\"white-space:pre;overflow-x:auto;line-height:normal;font-family:Menlo,'DejaVu Sans Mono',consolas,'Courier New',monospace\">┏━━━━━━━━━━━━━━━━━━━━━━━━━━━━━━━━━┳━━━━━━━━━━━━━━━━━━━━━━━━┳━━━━━━━━━━━━━━━┓\n",
       "┃<span style=\"font-weight: bold\"> Layer (type)                    </span>┃<span style=\"font-weight: bold\"> Output Shape           </span>┃<span style=\"font-weight: bold\">       Param # </span>┃\n",
       "┡━━━━━━━━━━━━━━━━━━━━━━━━━━━━━━━━━╇━━━━━━━━━━━━━━━━━━━━━━━━╇━━━━━━━━━━━━━━━┩\n",
       "│ sequential (<span style=\"color: #0087ff; text-decoration-color: #0087ff\">Sequential</span>)         │ (<span style=\"color: #00d7ff; text-decoration-color: #00d7ff\">None</span>, <span style=\"color: #00af00; text-decoration-color: #00af00\">224</span>, <span style=\"color: #00af00; text-decoration-color: #00af00\">224</span>, <span style=\"color: #00af00; text-decoration-color: #00af00\">3</span>)    │             <span style=\"color: #00af00; text-decoration-color: #00af00\">0</span> │\n",
       "├─────────────────────────────────┼────────────────────────┼───────────────┤\n",
       "│ MobileNetV3Small (<span style=\"color: #0087ff; text-decoration-color: #0087ff\">Functional</span>)   │ (<span style=\"color: #00d7ff; text-decoration-color: #00d7ff\">None</span>, <span style=\"color: #00af00; text-decoration-color: #00af00\">7</span>, <span style=\"color: #00af00; text-decoration-color: #00af00\">7</span>, <span style=\"color: #00af00; text-decoration-color: #00af00\">576</span>)      │       <span style=\"color: #00af00; text-decoration-color: #00af00\">939,120</span> │\n",
       "├─────────────────────────────────┼────────────────────────┼───────────────┤\n",
       "│ global_average_pooling2d        │ (<span style=\"color: #00d7ff; text-decoration-color: #00d7ff\">None</span>, <span style=\"color: #00af00; text-decoration-color: #00af00\">576</span>)            │             <span style=\"color: #00af00; text-decoration-color: #00af00\">0</span> │\n",
       "│ (<span style=\"color: #0087ff; text-decoration-color: #0087ff\">GlobalAveragePooling2D</span>)        │                        │               │\n",
       "├─────────────────────────────────┼────────────────────────┼───────────────┤\n",
       "│ dense (<span style=\"color: #0087ff; text-decoration-color: #0087ff\">Dense</span>)                   │ (<span style=\"color: #00d7ff; text-decoration-color: #00d7ff\">None</span>, <span style=\"color: #00af00; text-decoration-color: #00af00\">512</span>)            │       <span style=\"color: #00af00; text-decoration-color: #00af00\">295,424</span> │\n",
       "├─────────────────────────────────┼────────────────────────┼───────────────┤\n",
       "│ dropout (<span style=\"color: #0087ff; text-decoration-color: #0087ff\">Dropout</span>)               │ (<span style=\"color: #00d7ff; text-decoration-color: #00d7ff\">None</span>, <span style=\"color: #00af00; text-decoration-color: #00af00\">512</span>)            │             <span style=\"color: #00af00; text-decoration-color: #00af00\">0</span> │\n",
       "├─────────────────────────────────┼────────────────────────┼───────────────┤\n",
       "│ batch_normalization             │ (<span style=\"color: #00d7ff; text-decoration-color: #00d7ff\">None</span>, <span style=\"color: #00af00; text-decoration-color: #00af00\">512</span>)            │         <span style=\"color: #00af00; text-decoration-color: #00af00\">2,048</span> │\n",
       "│ (<span style=\"color: #0087ff; text-decoration-color: #0087ff\">BatchNormalization</span>)            │                        │               │\n",
       "├─────────────────────────────────┼────────────────────────┼───────────────┤\n",
       "│ dense_1 (<span style=\"color: #0087ff; text-decoration-color: #0087ff\">Dense</span>)                 │ (<span style=\"color: #00d7ff; text-decoration-color: #00d7ff\">None</span>, <span style=\"color: #00af00; text-decoration-color: #00af00\">256</span>)            │       <span style=\"color: #00af00; text-decoration-color: #00af00\">131,328</span> │\n",
       "├─────────────────────────────────┼────────────────────────┼───────────────┤\n",
       "│ dropout_1 (<span style=\"color: #0087ff; text-decoration-color: #0087ff\">Dropout</span>)             │ (<span style=\"color: #00d7ff; text-decoration-color: #00d7ff\">None</span>, <span style=\"color: #00af00; text-decoration-color: #00af00\">256</span>)            │             <span style=\"color: #00af00; text-decoration-color: #00af00\">0</span> │\n",
       "├─────────────────────────────────┼────────────────────────┼───────────────┤\n",
       "│ oat_classifier (<span style=\"color: #0087ff; text-decoration-color: #0087ff\">Dense</span>)          │ (<span style=\"color: #00d7ff; text-decoration-color: #00d7ff\">None</span>, <span style=\"color: #00af00; text-decoration-color: #00af00\">18</span>)             │         <span style=\"color: #00af00; text-decoration-color: #00af00\">4,626</span> │\n",
       "└─────────────────────────────────┴────────────────────────┴───────────────┘\n",
       "</pre>\n"
      ]
     },
     "metadata": {},
     "output_type": "display_data"
    },
    {
     "data": {
      "text/plain": [
       "\u001B[1m Total params: \u001B[0m\u001B[38;5;34m1,372,546\u001B[0m (5.24 MB)\n"
      ],
      "text/html": [
       "<pre style=\"white-space:pre;overflow-x:auto;line-height:normal;font-family:Menlo,'DejaVu Sans Mono',consolas,'Courier New',monospace\"><span style=\"font-weight: bold\"> Total params: </span><span style=\"color: #00af00; text-decoration-color: #00af00\">1,372,546</span> (5.24 MB)\n",
       "</pre>\n"
      ]
     },
     "metadata": {},
     "output_type": "display_data"
    },
    {
     "data": {
      "text/plain": [
       "\u001B[1m Trainable params: \u001B[0m\u001B[38;5;34m432,402\u001B[0m (1.65 MB)\n"
      ],
      "text/html": [
       "<pre style=\"white-space:pre;overflow-x:auto;line-height:normal;font-family:Menlo,'DejaVu Sans Mono',consolas,'Courier New',monospace\"><span style=\"font-weight: bold\"> Trainable params: </span><span style=\"color: #00af00; text-decoration-color: #00af00\">432,402</span> (1.65 MB)\n",
       "</pre>\n"
      ]
     },
     "metadata": {},
     "output_type": "display_data"
    },
    {
     "data": {
      "text/plain": [
       "\u001B[1m Non-trainable params: \u001B[0m\u001B[38;5;34m940,144\u001B[0m (3.59 MB)\n"
      ],
      "text/html": [
       "<pre style=\"white-space:pre;overflow-x:auto;line-height:normal;font-family:Menlo,'DejaVu Sans Mono',consolas,'Courier New',monospace\"><span style=\"font-weight: bold\"> Non-trainable params: </span><span style=\"color: #00af00; text-decoration-color: #00af00\">940,144</span> (3.59 MB)\n",
       "</pre>\n"
      ]
     },
     "metadata": {},
     "output_type": "display_data"
    }
   ],
   "execution_count": 7
  },
  {
   "metadata": {
    "ExecuteTime": {
     "end_time": "2025-07-03T12:27:53.019239Z",
     "start_time": "2025-07-03T12:27:53.012750Z"
    }
   },
   "cell_type": "code",
   "source": [
    "# Compile Stage 1 model\n",
    "stage1_model.compile(\n",
    "    optimizer=\"adamax\",\n",
    "    loss=\"sparse_categorical_crossentropy\",\n",
    "    metrics=[\"accuracy\"]\n",
    ")\n",
    "\n",
    "# Define callbacks for Stage 1\n",
    "stage1_callbacks = [\n",
    "    keras.callbacks.EarlyStopping(\n",
    "        monitor=\"val_loss\",\n",
    "        patience=3,\n",
    "        restore_best_weights=True,\n",
    "        verbose=1\n",
    "    ),\n",
    "    keras.callbacks.ReduceLROnPlateau(\n",
    "        monitor=\"val_loss\",\n",
    "        factor=0.5,\n",
    "        patience=2,\n",
    "        min_lr=1e-7,\n",
    "        verbose=1\n",
    "    )\n",
    "]"
   ],
   "outputs": [],
   "execution_count": 8
  },
  {
   "metadata": {
    "ExecuteTime": {
     "end_time": "2025-07-03T12:29:03.956524Z",
     "start_time": "2025-07-03T12:27:53.706101Z"
    }
   },
   "cell_type": "code",
   "source": [
    "# Train Stage 1 model\n",
    "print(\"Starting Stage 1 training on OAT dataset...\")\n",
    "stage1_history = stage1_model.fit(\n",
    "    oat_train_ds,\n",
    "    epochs=50,\n",
    "    validation_data=oat_val_ds,\n",
    "    callbacks=stage1_callbacks,\n",
    "    verbose=1\n",
    ")\n",
    "\n",
    "# Save Stage 1 model\n",
    "stage1_model.save(\"mobilenet_oat_stage1.keras\")\n",
    "print(\"Stage 1 model saved as 'mobilenet_oat_stage1.keras'\")"
   ],
   "outputs": [
    {
     "name": "stdout",
     "output_type": "stream",
     "text": [
      "Starting Stage 1 training on OAT dataset...\n",
      "Epoch 1/50\n"
     ]
    },
    {
     "name": "stderr",
     "output_type": "stream",
     "text": [
      "I0000 00:00:1751545677.995001 2475891 cuda_dnn.cc:529] Loaded cuDNN version 90300\n"
     ]
    },
    {
     "name": "stdout",
     "output_type": "stream",
     "text": [
      "\u001B[1m158/158\u001B[0m \u001B[32m━━━━━━━━━━━━━━━━━━━━\u001B[0m\u001B[37m\u001B[0m \u001B[1m7s\u001B[0m 14ms/step - accuracy: 0.1267 - loss: 10.8873 - val_accuracy: 0.3035 - val_loss: 9.0267 - learning_rate: 0.0010\n",
      "Epoch 2/50\n",
      "\u001B[1m158/158\u001B[0m \u001B[32m━━━━━━━━━━━━━━━━━━━━\u001B[0m\u001B[37m\u001B[0m \u001B[1m1s\u001B[0m 8ms/step - accuracy: 0.3001 - loss: 8.7896 - val_accuracy: 0.3642 - val_loss: 7.9691 - learning_rate: 0.0010\n",
      "Epoch 3/50\n",
      "\u001B[1m158/158\u001B[0m \u001B[32m━━━━━━━━━━━━━━━━━━━━\u001B[0m\u001B[37m\u001B[0m \u001B[1m1s\u001B[0m 8ms/step - accuracy: 0.3430 - loss: 7.8356 - val_accuracy: 0.3988 - val_loss: 7.2388 - learning_rate: 0.0010\n",
      "Epoch 4/50\n",
      "\u001B[1m158/158\u001B[0m \u001B[32m━━━━━━━━━━━━━━━━━━━━\u001B[0m\u001B[37m\u001B[0m \u001B[1m1s\u001B[0m 8ms/step - accuracy: 0.3850 - loss: 7.0794 - val_accuracy: 0.4133 - val_loss: 6.6251 - learning_rate: 0.0010\n",
      "Epoch 5/50\n",
      "\u001B[1m158/158\u001B[0m \u001B[32m━━━━━━━━━━━━━━━━━━━━\u001B[0m\u001B[37m\u001B[0m \u001B[1m1s\u001B[0m 7ms/step - accuracy: 0.4399 - loss: 6.4203 - val_accuracy: 0.4335 - val_loss: 6.1290 - learning_rate: 0.0010\n",
      "Epoch 6/50\n",
      "\u001B[1m158/158\u001B[0m \u001B[32m━━━━━━━━━━━━━━━━━━━━\u001B[0m\u001B[37m\u001B[0m \u001B[1m1s\u001B[0m 8ms/step - accuracy: 0.4419 - loss: 5.8789 - val_accuracy: 0.4133 - val_loss: 5.7495 - learning_rate: 0.0010\n",
      "Epoch 7/50\n",
      "\u001B[1m158/158\u001B[0m \u001B[32m━━━━━━━━━━━━━━━━━━━━\u001B[0m\u001B[37m\u001B[0m \u001B[1m1s\u001B[0m 8ms/step - accuracy: 0.4606 - loss: 5.5024 - val_accuracy: 0.4335 - val_loss: 5.4021 - learning_rate: 0.0010\n",
      "Epoch 8/50\n",
      "\u001B[1m158/158\u001B[0m \u001B[32m━━━━━━━━━━━━━━━━━━━━\u001B[0m\u001B[37m\u001B[0m \u001B[1m1s\u001B[0m 8ms/step - accuracy: 0.4571 - loss: 5.1021 - val_accuracy: 0.4480 - val_loss: 5.0500 - learning_rate: 0.0010\n",
      "Epoch 9/50\n",
      "\u001B[1m158/158\u001B[0m \u001B[32m━━━━━━━━━━━━━━━━━━━━\u001B[0m\u001B[37m\u001B[0m \u001B[1m1s\u001B[0m 8ms/step - accuracy: 0.4879 - loss: 4.7393 - val_accuracy: 0.4509 - val_loss: 4.7339 - learning_rate: 0.0010\n",
      "Epoch 10/50\n",
      "\u001B[1m158/158\u001B[0m \u001B[32m━━━━━━━━━━━━━━━━━━━━\u001B[0m\u001B[37m\u001B[0m \u001B[1m1s\u001B[0m 8ms/step - accuracy: 0.5362 - loss: 4.3776 - val_accuracy: 0.4769 - val_loss: 4.4735 - learning_rate: 0.0010\n",
      "Epoch 11/50\n",
      "\u001B[1m158/158\u001B[0m \u001B[32m━━━━━━━━━━━━━━━━━━━━\u001B[0m\u001B[37m\u001B[0m \u001B[1m1s\u001B[0m 8ms/step - accuracy: 0.5431 - loss: 4.1281 - val_accuracy: 0.4451 - val_loss: 4.2621 - learning_rate: 0.0010\n",
      "Epoch 12/50\n",
      "\u001B[1m158/158\u001B[0m \u001B[32m━━━━━━━━━━━━━━━━━━━━\u001B[0m\u001B[37m\u001B[0m \u001B[1m1s\u001B[0m 8ms/step - accuracy: 0.5399 - loss: 3.8959 - val_accuracy: 0.4451 - val_loss: 4.1499 - learning_rate: 0.0010\n",
      "Epoch 13/50\n",
      "\u001B[1m158/158\u001B[0m \u001B[32m━━━━━━━━━━━━━━━━━━━━\u001B[0m\u001B[37m\u001B[0m \u001B[1m1s\u001B[0m 8ms/step - accuracy: 0.5641 - loss: 3.6506 - val_accuracy: 0.4538 - val_loss: 3.9743 - learning_rate: 0.0010\n",
      "Epoch 14/50\n",
      "\u001B[1m158/158\u001B[0m \u001B[32m━━━━━━━━━━━━━━━━━━━━\u001B[0m\u001B[37m\u001B[0m \u001B[1m1s\u001B[0m 8ms/step - accuracy: 0.5558 - loss: 3.4837 - val_accuracy: 0.4653 - val_loss: 3.7469 - learning_rate: 0.0010\n",
      "Epoch 15/50\n",
      "\u001B[1m158/158\u001B[0m \u001B[32m━━━━━━━━━━━━━━━━━━━━\u001B[0m\u001B[37m\u001B[0m \u001B[1m1s\u001B[0m 8ms/step - accuracy: 0.5867 - loss: 3.2596 - val_accuracy: 0.4769 - val_loss: 3.6505 - learning_rate: 0.0010\n",
      "Epoch 16/50\n",
      "\u001B[1m158/158\u001B[0m \u001B[32m━━━━━━━━━━━━━━━━━━━━\u001B[0m\u001B[37m\u001B[0m \u001B[1m1s\u001B[0m 8ms/step - accuracy: 0.5983 - loss: 3.0966 - val_accuracy: 0.4682 - val_loss: 3.5318 - learning_rate: 0.0010\n",
      "Epoch 17/50\n",
      "\u001B[1m158/158\u001B[0m \u001B[32m━━━━━━━━━━━━━━━━━━━━\u001B[0m\u001B[37m\u001B[0m \u001B[1m1s\u001B[0m 8ms/step - accuracy: 0.6000 - loss: 2.9857 - val_accuracy: 0.4740 - val_loss: 3.4356 - learning_rate: 0.0010\n",
      "Epoch 18/50\n",
      "\u001B[1m158/158\u001B[0m \u001B[32m━━━━━━━━━━━━━━━━━━━━\u001B[0m\u001B[37m\u001B[0m \u001B[1m1s\u001B[0m 8ms/step - accuracy: 0.6184 - loss: 2.8593 - val_accuracy: 0.4653 - val_loss: 3.3513 - learning_rate: 0.0010\n",
      "Epoch 19/50\n",
      "\u001B[1m158/158\u001B[0m \u001B[32m━━━━━━━━━━━━━━━━━━━━\u001B[0m\u001B[37m\u001B[0m \u001B[1m1s\u001B[0m 8ms/step - accuracy: 0.6199 - loss: 2.7388 - val_accuracy: 0.4769 - val_loss: 3.2503 - learning_rate: 0.0010\n",
      "Epoch 20/50\n",
      "\u001B[1m158/158\u001B[0m \u001B[32m━━━━━━━━━━━━━━━━━━━━\u001B[0m\u001B[37m\u001B[0m \u001B[1m1s\u001B[0m 8ms/step - accuracy: 0.6316 - loss: 2.6177 - val_accuracy: 0.4624 - val_loss: 3.2439 - learning_rate: 0.0010\n",
      "Epoch 21/50\n",
      "\u001B[1m158/158\u001B[0m \u001B[32m━━━━━━━━━━━━━━━━━━━━\u001B[0m\u001B[37m\u001B[0m \u001B[1m1s\u001B[0m 8ms/step - accuracy: 0.6352 - loss: 2.5589 - val_accuracy: 0.4740 - val_loss: 3.0951 - learning_rate: 0.0010\n",
      "Epoch 22/50\n",
      "\u001B[1m158/158\u001B[0m \u001B[32m━━━━━━━━━━━━━━━━━━━━\u001B[0m\u001B[37m\u001B[0m \u001B[1m1s\u001B[0m 8ms/step - accuracy: 0.6384 - loss: 2.4441 - val_accuracy: 0.4855 - val_loss: 3.0225 - learning_rate: 0.0010\n",
      "Epoch 23/50\n",
      "\u001B[1m158/158\u001B[0m \u001B[32m━━━━━━━━━━━━━━━━━━━━\u001B[0m\u001B[37m\u001B[0m \u001B[1m1s\u001B[0m 8ms/step - accuracy: 0.6337 - loss: 2.3752 - val_accuracy: 0.4884 - val_loss: 3.0348 - learning_rate: 0.0010\n",
      "Epoch 24/50\n",
      "\u001B[1m150/158\u001B[0m \u001B[32m━━━━━━━━━━━━━━━━━━\u001B[0m\u001B[37m━━\u001B[0m \u001B[1m0s\u001B[0m 7ms/step - accuracy: 0.6525 - loss: 2.3050\n",
      "Epoch 24: ReduceLROnPlateau reducing learning rate to 0.0005000000237487257.\n",
      "\u001B[1m158/158\u001B[0m \u001B[32m━━━━━━━━━━━━━━━━━━━━\u001B[0m\u001B[37m\u001B[0m \u001B[1m1s\u001B[0m 8ms/step - accuracy: 0.6523 - loss: 2.3041 - val_accuracy: 0.4682 - val_loss: 3.0402 - learning_rate: 0.0010\n",
      "Epoch 25/50\n",
      "\u001B[1m158/158\u001B[0m \u001B[32m━━━━━━━━━━━━━━━━━━━━\u001B[0m\u001B[37m\u001B[0m \u001B[1m1s\u001B[0m 8ms/step - accuracy: 0.6672 - loss: 2.2436 - val_accuracy: 0.4971 - val_loss: 2.9272 - learning_rate: 5.0000e-04\n",
      "Epoch 26/50\n",
      "\u001B[1m158/158\u001B[0m \u001B[32m━━━━━━━━━━━━━━━━━━━━\u001B[0m\u001B[37m\u001B[0m \u001B[1m1s\u001B[0m 8ms/step - accuracy: 0.6650 - loss: 2.1728 - val_accuracy: 0.5173 - val_loss: 2.8515 - learning_rate: 5.0000e-04\n",
      "Epoch 27/50\n",
      "\u001B[1m158/158\u001B[0m \u001B[32m━━━━━━━━━━━━━━━━━━━━\u001B[0m\u001B[37m\u001B[0m \u001B[1m1s\u001B[0m 8ms/step - accuracy: 0.6870 - loss: 2.1168 - val_accuracy: 0.4971 - val_loss: 2.8580 - learning_rate: 5.0000e-04\n",
      "Epoch 28/50\n",
      "\u001B[1m158/158\u001B[0m \u001B[32m━━━━━━━━━━━━━━━━━━━━\u001B[0m\u001B[37m\u001B[0m \u001B[1m1s\u001B[0m 8ms/step - accuracy: 0.6800 - loss: 2.0964 - val_accuracy: 0.5029 - val_loss: 2.8240 - learning_rate: 5.0000e-04\n",
      "Epoch 29/50\n",
      "\u001B[1m158/158\u001B[0m \u001B[32m━━━━━━━━━━━━━━━━━━━━\u001B[0m\u001B[37m\u001B[0m \u001B[1m1s\u001B[0m 7ms/step - accuracy: 0.6998 - loss: 2.0557 - val_accuracy: 0.4884 - val_loss: 2.8471 - learning_rate: 5.0000e-04\n",
      "Epoch 30/50\n",
      "\u001B[1m158/158\u001B[0m \u001B[32m━━━━━━━━━━━━━━━━━━━━\u001B[0m\u001B[37m\u001B[0m \u001B[1m1s\u001B[0m 8ms/step - accuracy: 0.7025 - loss: 2.0108 - val_accuracy: 0.5029 - val_loss: 2.8140 - learning_rate: 5.0000e-04\n",
      "Epoch 31/50\n",
      "\u001B[1m158/158\u001B[0m \u001B[32m━━━━━━━━━━━━━━━━━━━━\u001B[0m\u001B[37m\u001B[0m \u001B[1m1s\u001B[0m 8ms/step - accuracy: 0.7003 - loss: 1.9635 - val_accuracy: 0.4971 - val_loss: 2.8565 - learning_rate: 5.0000e-04\n",
      "Epoch 32/50\n",
      "\u001B[1m158/158\u001B[0m \u001B[32m━━━━━━━━━━━━━━━━━━━━\u001B[0m\u001B[37m\u001B[0m \u001B[1m1s\u001B[0m 9ms/step - accuracy: 0.7013 - loss: 1.9425 - val_accuracy: 0.4971 - val_loss: 2.7580 - learning_rate: 5.0000e-04\n",
      "Epoch 33/50\n",
      "\u001B[1m158/158\u001B[0m \u001B[32m━━━━━━━━━━━━━━━━━━━━\u001B[0m\u001B[37m\u001B[0m \u001B[1m1s\u001B[0m 8ms/step - accuracy: 0.7162 - loss: 1.9376 - val_accuracy: 0.4884 - val_loss: 2.7787 - learning_rate: 5.0000e-04\n",
      "Epoch 34/50\n",
      "\u001B[1m158/158\u001B[0m \u001B[32m━━━━━━━━━━━━━━━━━━━━\u001B[0m\u001B[37m\u001B[0m \u001B[1m1s\u001B[0m 8ms/step - accuracy: 0.7260 - loss: 1.8835 - val_accuracy: 0.4942 - val_loss: 2.7390 - learning_rate: 5.0000e-04\n",
      "Epoch 35/50\n",
      "\u001B[1m158/158\u001B[0m \u001B[32m━━━━━━━━━━━━━━━━━━━━\u001B[0m\u001B[37m\u001B[0m \u001B[1m1s\u001B[0m 8ms/step - accuracy: 0.7294 - loss: 1.8495 - val_accuracy: 0.4798 - val_loss: 2.6964 - learning_rate: 5.0000e-04\n",
      "Epoch 36/50\n",
      "\u001B[1m158/158\u001B[0m \u001B[32m━━━━━━━━━━━━━━━━━━━━\u001B[0m\u001B[37m\u001B[0m \u001B[1m1s\u001B[0m 7ms/step - accuracy: 0.7432 - loss: 1.7968 - val_accuracy: 0.4884 - val_loss: 2.7058 - learning_rate: 5.0000e-04\n",
      "Epoch 37/50\n",
      "\u001B[1m158/158\u001B[0m \u001B[32m━━━━━━━━━━━━━━━━━━━━\u001B[0m\u001B[37m\u001B[0m \u001B[1m1s\u001B[0m 8ms/step - accuracy: 0.7202 - loss: 1.8272 - val_accuracy: 0.5000 - val_loss: 2.6557 - learning_rate: 5.0000e-04\n",
      "Epoch 38/50\n",
      "\u001B[1m158/158\u001B[0m \u001B[32m━━━━━━━━━━━━━━━━━━━━\u001B[0m\u001B[37m\u001B[0m \u001B[1m1s\u001B[0m 8ms/step - accuracy: 0.7365 - loss: 1.7940 - val_accuracy: 0.4827 - val_loss: 2.6506 - learning_rate: 5.0000e-04\n",
      "Epoch 39/50\n",
      "\u001B[1m158/158\u001B[0m \u001B[32m━━━━━━━━━━━━━━━━━━━━\u001B[0m\u001B[37m\u001B[0m \u001B[1m1s\u001B[0m 7ms/step - accuracy: 0.7358 - loss: 1.7538 - val_accuracy: 0.5000 - val_loss: 2.6642 - learning_rate: 5.0000e-04\n",
      "Epoch 40/50\n",
      "\u001B[1m158/158\u001B[0m \u001B[32m━━━━━━━━━━━━━━━━━━━━\u001B[0m\u001B[37m\u001B[0m \u001B[1m1s\u001B[0m 8ms/step - accuracy: 0.7401 - loss: 1.7238 - val_accuracy: 0.4942 - val_loss: 2.6255 - learning_rate: 5.0000e-04\n",
      "Epoch 41/50\n",
      "\u001B[1m158/158\u001B[0m \u001B[32m━━━━━━━━━━━━━━━━━━━━\u001B[0m\u001B[37m\u001B[0m \u001B[1m1s\u001B[0m 8ms/step - accuracy: 0.7300 - loss: 1.7030 - val_accuracy: 0.5058 - val_loss: 2.6198 - learning_rate: 5.0000e-04\n",
      "Epoch 42/50\n",
      "\u001B[1m158/158\u001B[0m \u001B[32m━━━━━━━━━━━━━━━━━━━━\u001B[0m\u001B[37m\u001B[0m \u001B[1m1s\u001B[0m 8ms/step - accuracy: 0.7415 - loss: 1.7014 - val_accuracy: 0.4913 - val_loss: 2.6574 - learning_rate: 5.0000e-04\n",
      "Epoch 43/50\n",
      "\u001B[1m158/158\u001B[0m \u001B[32m━━━━━━━━━━━━━━━━━━━━\u001B[0m\u001B[37m\u001B[0m \u001B[1m1s\u001B[0m 8ms/step - accuracy: 0.7418 - loss: 1.6897 - val_accuracy: 0.5000 - val_loss: 2.6190 - learning_rate: 5.0000e-04\n",
      "Epoch 44/50\n",
      "\u001B[1m158/158\u001B[0m \u001B[32m━━━━━━━━━━━━━━━━━━━━\u001B[0m\u001B[37m\u001B[0m \u001B[1m1s\u001B[0m 8ms/step - accuracy: 0.7511 - loss: 1.6520 - val_accuracy: 0.4855 - val_loss: 2.6574 - learning_rate: 5.0000e-04\n",
      "Epoch 45/50\n",
      "\u001B[1m155/158\u001B[0m \u001B[32m━━━━━━━━━━━━━━━━━━━\u001B[0m\u001B[37m━\u001B[0m \u001B[1m0s\u001B[0m 6ms/step - accuracy: 0.7564 - loss: 1.5941\n",
      "Epoch 45: ReduceLROnPlateau reducing learning rate to 0.0002500000118743628.\n",
      "\u001B[1m158/158\u001B[0m \u001B[32m━━━━━━━━━━━━━━━━━━━━\u001B[0m\u001B[37m\u001B[0m \u001B[1m1s\u001B[0m 8ms/step - accuracy: 0.7563 - loss: 1.5941 - val_accuracy: 0.4740 - val_loss: 2.6663 - learning_rate: 5.0000e-04\n",
      "Epoch 46/50\n",
      "\u001B[1m158/158\u001B[0m \u001B[32m━━━━━━━━━━━━━━━━━━━━\u001B[0m\u001B[37m\u001B[0m \u001B[1m1s\u001B[0m 8ms/step - accuracy: 0.7638 - loss: 1.5714 - val_accuracy: 0.4884 - val_loss: 2.5890 - learning_rate: 2.5000e-04\n",
      "Epoch 47/50\n",
      "\u001B[1m158/158\u001B[0m \u001B[32m━━━━━━━━━━━━━━━━━━━━\u001B[0m\u001B[37m\u001B[0m \u001B[1m1s\u001B[0m 7ms/step - accuracy: 0.7627 - loss: 1.5648 - val_accuracy: 0.4913 - val_loss: 2.6004 - learning_rate: 2.5000e-04\n",
      "Epoch 48/50\n",
      "\u001B[1m158/158\u001B[0m \u001B[32m━━━━━━━━━━━━━━━━━━━━\u001B[0m\u001B[37m\u001B[0m \u001B[1m1s\u001B[0m 8ms/step - accuracy: 0.7594 - loss: 1.5744 - val_accuracy: 0.5058 - val_loss: 2.5790 - learning_rate: 2.5000e-04\n",
      "Epoch 49/50\n",
      "\u001B[1m158/158\u001B[0m \u001B[32m━━━━━━━━━━━━━━━━━━━━\u001B[0m\u001B[37m\u001B[0m \u001B[1m1s\u001B[0m 8ms/step - accuracy: 0.7832 - loss: 1.5395 - val_accuracy: 0.4971 - val_loss: 2.6140 - learning_rate: 2.5000e-04\n",
      "Epoch 50/50\n",
      "\u001B[1m158/158\u001B[0m \u001B[32m━━━━━━━━━━━━━━━━━━━━\u001B[0m\u001B[37m\u001B[0m \u001B[1m1s\u001B[0m 8ms/step - accuracy: 0.7644 - loss: 1.5296 - val_accuracy: 0.4942 - val_loss: 2.5551 - learning_rate: 2.5000e-04\n",
      "Restoring model weights from the end of the best epoch: 50.\n",
      "Stage 1 model saved as 'mobilenet_oat_stage1.keras'\n"
     ]
    }
   ],
   "execution_count": 9
  },
  {
   "metadata": {
    "ExecuteTime": {
     "end_time": "2025-07-03T12:30:04.229471Z",
     "start_time": "2025-07-03T12:30:03.946857Z"
    }
   },
   "cell_type": "code",
   "source": [
    "# Evaluate Stage 1 model\n",
    "stage1_test_loss, stage1_test_accuracy = stage1_model.evaluate(oat_test_ds, verbose=1)\n",
    "print(f\"Stage 1 Test Accuracy: {stage1_test_accuracy:.4f}\")\n",
    "print(f\"Stage 1 Test Loss: {stage1_test_loss:.4f}\")"
   ],
   "outputs": [
    {
     "name": "stdout",
     "output_type": "stream",
     "text": [
      "\u001B[1m45/45\u001B[0m \u001B[32m━━━━━━━━━━━━━━━━━━━━\u001B[0m\u001B[37m\u001B[0m \u001B[1m0s\u001B[0m 6ms/step - accuracy: 0.4972 - loss: 2.4902\n",
      "Stage 1 Test Accuracy: 0.5146\n",
      "Stage 1 Test Loss: 2.4543\n"
     ]
    }
   ],
   "execution_count": 10
  },
  {
   "metadata": {
    "ExecuteTime": {
     "end_time": "2025-07-03T12:30:05.214419Z",
     "start_time": "2025-07-03T12:30:04.623907Z"
    }
   },
   "cell_type": "code",
   "source": [
    "# Load Stage 1 model and extract backbone weights\n",
    "stage1_loaded = keras.models.load_model(\"mobilenet_oat_stage1.keras\")\n",
    "\n",
    "# Get the MobileNet backbone from Stage 1 model\n",
    "stage1_loaded.trainable = True\n",
    "\n",
    "# Unfreeze last N layers for fine-tuning\n",
    "fine_tune_at = len(stage1_loaded.layers) - 20\n",
    "\n",
    "for layer in stage1_loaded.layers[:fine_tune_at]:\n",
    "    layer.trainable = False\n",
    "\n",
    "print(f\"Unfroze last {len(stage1_loaded.layers) - fine_tune_at} layers for fine-tuning\")\n",
    "stage1_loaded.compile(\n",
    "    optimizer=keras.optimizers.Adam(learning_rate=1e-5),\n",
    "    loss=\"sparse_categorical_crossentropy\",\n",
    "    metrics=[\"accuracy\"]\n",
    ")\n",
    "\n",
    "stage1_loaded.summary()"
   ],
   "outputs": [
    {
     "name": "stdout",
     "output_type": "stream",
     "text": [
      "Unfroze last 20 layers for fine-tuning\n"
     ]
    },
    {
     "data": {
      "text/plain": [
       "\u001B[1mModel: \"stage1_oat_model\"\u001B[0m\n"
      ],
      "text/html": [
       "<pre style=\"white-space:pre;overflow-x:auto;line-height:normal;font-family:Menlo,'DejaVu Sans Mono',consolas,'Courier New',monospace\"><span style=\"font-weight: bold\">Model: \"stage1_oat_model\"</span>\n",
       "</pre>\n"
      ]
     },
     "metadata": {},
     "output_type": "display_data"
    },
    {
     "data": {
      "text/plain": [
       "┏━━━━━━━━━━━━━━━━━━━━━━━━━━━━━━━━━┳━━━━━━━━━━━━━━━━━━━━━━━━┳━━━━━━━━━━━━━━━┓\n",
       "┃\u001B[1m \u001B[0m\u001B[1mLayer (type)                   \u001B[0m\u001B[1m \u001B[0m┃\u001B[1m \u001B[0m\u001B[1mOutput Shape          \u001B[0m\u001B[1m \u001B[0m┃\u001B[1m \u001B[0m\u001B[1m      Param #\u001B[0m\u001B[1m \u001B[0m┃\n",
       "┡━━━━━━━━━━━━━━━━━━━━━━━━━━━━━━━━━╇━━━━━━━━━━━━━━━━━━━━━━━━╇━━━━━━━━━━━━━━━┩\n",
       "│ sequential (\u001B[38;5;33mSequential\u001B[0m)         │ (\u001B[38;5;45mNone\u001B[0m, \u001B[38;5;34m224\u001B[0m, \u001B[38;5;34m224\u001B[0m, \u001B[38;5;34m3\u001B[0m)    │             \u001B[38;5;34m0\u001B[0m │\n",
       "├─────────────────────────────────┼────────────────────────┼───────────────┤\n",
       "│ MobileNetV3Small (\u001B[38;5;33mFunctional\u001B[0m)   │ (\u001B[38;5;45mNone\u001B[0m, \u001B[38;5;34m7\u001B[0m, \u001B[38;5;34m7\u001B[0m, \u001B[38;5;34m576\u001B[0m)      │       \u001B[38;5;34m939,120\u001B[0m │\n",
       "├─────────────────────────────────┼────────────────────────┼───────────────┤\n",
       "│ global_average_pooling2d        │ (\u001B[38;5;45mNone\u001B[0m, \u001B[38;5;34m576\u001B[0m)            │             \u001B[38;5;34m0\u001B[0m │\n",
       "│ (\u001B[38;5;33mGlobalAveragePooling2D\u001B[0m)        │                        │               │\n",
       "├─────────────────────────────────┼────────────────────────┼───────────────┤\n",
       "│ dense (\u001B[38;5;33mDense\u001B[0m)                   │ (\u001B[38;5;45mNone\u001B[0m, \u001B[38;5;34m512\u001B[0m)            │       \u001B[38;5;34m295,424\u001B[0m │\n",
       "├─────────────────────────────────┼────────────────────────┼───────────────┤\n",
       "│ dropout (\u001B[38;5;33mDropout\u001B[0m)               │ (\u001B[38;5;45mNone\u001B[0m, \u001B[38;5;34m512\u001B[0m)            │             \u001B[38;5;34m0\u001B[0m │\n",
       "├─────────────────────────────────┼────────────────────────┼───────────────┤\n",
       "│ batch_normalization             │ (\u001B[38;5;45mNone\u001B[0m, \u001B[38;5;34m512\u001B[0m)            │         \u001B[38;5;34m2,048\u001B[0m │\n",
       "│ (\u001B[38;5;33mBatchNormalization\u001B[0m)            │                        │               │\n",
       "├─────────────────────────────────┼────────────────────────┼───────────────┤\n",
       "│ dense_1 (\u001B[38;5;33mDense\u001B[0m)                 │ (\u001B[38;5;45mNone\u001B[0m, \u001B[38;5;34m256\u001B[0m)            │       \u001B[38;5;34m131,328\u001B[0m │\n",
       "├─────────────────────────────────┼────────────────────────┼───────────────┤\n",
       "│ dropout_1 (\u001B[38;5;33mDropout\u001B[0m)             │ (\u001B[38;5;45mNone\u001B[0m, \u001B[38;5;34m256\u001B[0m)            │             \u001B[38;5;34m0\u001B[0m │\n",
       "├─────────────────────────────────┼────────────────────────┼───────────────┤\n",
       "│ oat_classifier (\u001B[38;5;33mDense\u001B[0m)          │ (\u001B[38;5;45mNone\u001B[0m, \u001B[38;5;34m18\u001B[0m)             │         \u001B[38;5;34m4,626\u001B[0m │\n",
       "└─────────────────────────────────┴────────────────────────┴───────────────┘\n"
      ],
      "text/html": [
       "<pre style=\"white-space:pre;overflow-x:auto;line-height:normal;font-family:Menlo,'DejaVu Sans Mono',consolas,'Courier New',monospace\">┏━━━━━━━━━━━━━━━━━━━━━━━━━━━━━━━━━┳━━━━━━━━━━━━━━━━━━━━━━━━┳━━━━━━━━━━━━━━━┓\n",
       "┃<span style=\"font-weight: bold\"> Layer (type)                    </span>┃<span style=\"font-weight: bold\"> Output Shape           </span>┃<span style=\"font-weight: bold\">       Param # </span>┃\n",
       "┡━━━━━━━━━━━━━━━━━━━━━━━━━━━━━━━━━╇━━━━━━━━━━━━━━━━━━━━━━━━╇━━━━━━━━━━━━━━━┩\n",
       "│ sequential (<span style=\"color: #0087ff; text-decoration-color: #0087ff\">Sequential</span>)         │ (<span style=\"color: #00d7ff; text-decoration-color: #00d7ff\">None</span>, <span style=\"color: #00af00; text-decoration-color: #00af00\">224</span>, <span style=\"color: #00af00; text-decoration-color: #00af00\">224</span>, <span style=\"color: #00af00; text-decoration-color: #00af00\">3</span>)    │             <span style=\"color: #00af00; text-decoration-color: #00af00\">0</span> │\n",
       "├─────────────────────────────────┼────────────────────────┼───────────────┤\n",
       "│ MobileNetV3Small (<span style=\"color: #0087ff; text-decoration-color: #0087ff\">Functional</span>)   │ (<span style=\"color: #00d7ff; text-decoration-color: #00d7ff\">None</span>, <span style=\"color: #00af00; text-decoration-color: #00af00\">7</span>, <span style=\"color: #00af00; text-decoration-color: #00af00\">7</span>, <span style=\"color: #00af00; text-decoration-color: #00af00\">576</span>)      │       <span style=\"color: #00af00; text-decoration-color: #00af00\">939,120</span> │\n",
       "├─────────────────────────────────┼────────────────────────┼───────────────┤\n",
       "│ global_average_pooling2d        │ (<span style=\"color: #00d7ff; text-decoration-color: #00d7ff\">None</span>, <span style=\"color: #00af00; text-decoration-color: #00af00\">576</span>)            │             <span style=\"color: #00af00; text-decoration-color: #00af00\">0</span> │\n",
       "│ (<span style=\"color: #0087ff; text-decoration-color: #0087ff\">GlobalAveragePooling2D</span>)        │                        │               │\n",
       "├─────────────────────────────────┼────────────────────────┼───────────────┤\n",
       "│ dense (<span style=\"color: #0087ff; text-decoration-color: #0087ff\">Dense</span>)                   │ (<span style=\"color: #00d7ff; text-decoration-color: #00d7ff\">None</span>, <span style=\"color: #00af00; text-decoration-color: #00af00\">512</span>)            │       <span style=\"color: #00af00; text-decoration-color: #00af00\">295,424</span> │\n",
       "├─────────────────────────────────┼────────────────────────┼───────────────┤\n",
       "│ dropout (<span style=\"color: #0087ff; text-decoration-color: #0087ff\">Dropout</span>)               │ (<span style=\"color: #00d7ff; text-decoration-color: #00d7ff\">None</span>, <span style=\"color: #00af00; text-decoration-color: #00af00\">512</span>)            │             <span style=\"color: #00af00; text-decoration-color: #00af00\">0</span> │\n",
       "├─────────────────────────────────┼────────────────────────┼───────────────┤\n",
       "│ batch_normalization             │ (<span style=\"color: #00d7ff; text-decoration-color: #00d7ff\">None</span>, <span style=\"color: #00af00; text-decoration-color: #00af00\">512</span>)            │         <span style=\"color: #00af00; text-decoration-color: #00af00\">2,048</span> │\n",
       "│ (<span style=\"color: #0087ff; text-decoration-color: #0087ff\">BatchNormalization</span>)            │                        │               │\n",
       "├─────────────────────────────────┼────────────────────────┼───────────────┤\n",
       "│ dense_1 (<span style=\"color: #0087ff; text-decoration-color: #0087ff\">Dense</span>)                 │ (<span style=\"color: #00d7ff; text-decoration-color: #00d7ff\">None</span>, <span style=\"color: #00af00; text-decoration-color: #00af00\">256</span>)            │       <span style=\"color: #00af00; text-decoration-color: #00af00\">131,328</span> │\n",
       "├─────────────────────────────────┼────────────────────────┼───────────────┤\n",
       "│ dropout_1 (<span style=\"color: #0087ff; text-decoration-color: #0087ff\">Dropout</span>)             │ (<span style=\"color: #00d7ff; text-decoration-color: #00d7ff\">None</span>, <span style=\"color: #00af00; text-decoration-color: #00af00\">256</span>)            │             <span style=\"color: #00af00; text-decoration-color: #00af00\">0</span> │\n",
       "├─────────────────────────────────┼────────────────────────┼───────────────┤\n",
       "│ oat_classifier (<span style=\"color: #0087ff; text-decoration-color: #0087ff\">Dense</span>)          │ (<span style=\"color: #00d7ff; text-decoration-color: #00d7ff\">None</span>, <span style=\"color: #00af00; text-decoration-color: #00af00\">18</span>)             │         <span style=\"color: #00af00; text-decoration-color: #00af00\">4,626</span> │\n",
       "└─────────────────────────────────┴────────────────────────┴───────────────┘\n",
       "</pre>\n"
      ]
     },
     "metadata": {},
     "output_type": "display_data"
    },
    {
     "data": {
      "text/plain": [
       "\u001B[1m Total params: \u001B[0m\u001B[38;5;34m1,372,546\u001B[0m (5.24 MB)\n"
      ],
      "text/html": [
       "<pre style=\"white-space:pre;overflow-x:auto;line-height:normal;font-family:Menlo,'DejaVu Sans Mono',consolas,'Courier New',monospace\"><span style=\"font-weight: bold\"> Total params: </span><span style=\"color: #00af00; text-decoration-color: #00af00\">1,372,546</span> (5.24 MB)\n",
       "</pre>\n"
      ]
     },
     "metadata": {},
     "output_type": "display_data"
    },
    {
     "data": {
      "text/plain": [
       "\u001B[1m Trainable params: \u001B[0m\u001B[38;5;34m432,402\u001B[0m (1.65 MB)\n"
      ],
      "text/html": [
       "<pre style=\"white-space:pre;overflow-x:auto;line-height:normal;font-family:Menlo,'DejaVu Sans Mono',consolas,'Courier New',monospace\"><span style=\"font-weight: bold\"> Trainable params: </span><span style=\"color: #00af00; text-decoration-color: #00af00\">432,402</span> (1.65 MB)\n",
       "</pre>\n"
      ]
     },
     "metadata": {},
     "output_type": "display_data"
    },
    {
     "data": {
      "text/plain": [
       "\u001B[1m Non-trainable params: \u001B[0m\u001B[38;5;34m940,144\u001B[0m (3.59 MB)\n"
      ],
      "text/html": [
       "<pre style=\"white-space:pre;overflow-x:auto;line-height:normal;font-family:Menlo,'DejaVu Sans Mono',consolas,'Courier New',monospace\"><span style=\"font-weight: bold\"> Non-trainable params: </span><span style=\"color: #00af00; text-decoration-color: #00af00\">940,144</span> (3.59 MB)\n",
       "</pre>\n"
      ]
     },
     "metadata": {},
     "output_type": "display_data"
    }
   ],
   "execution_count": 11
  },
  {
   "metadata": {
    "ExecuteTime": {
     "end_time": "2025-07-03T12:30:15.160175Z",
     "start_time": "2025-07-03T12:30:05.264860Z"
    }
   },
   "cell_type": "code",
   "source": [
    "# Fine tune stage 1 model\n",
    "stage1_loaded.fit(\n",
    "    oat_train_ds,\n",
    "    epochs=10,\n",
    "    validation_data=oat_val_ds,\n",
    "    callbacks=[keras.callbacks.EarlyStopping(monitor=\"val_loss\", patience=3)]\n",
    ")\n",
    "\n",
    "stage1_loaded.save(\"mobilenet_oat_stage1_fine_tuned.keras\")"
   ],
   "outputs": [
    {
     "name": "stdout",
     "output_type": "stream",
     "text": [
      "Epoch 1/10\n",
      "\u001B[1m158/158\u001B[0m \u001B[32m━━━━━━━━━━━━━━━━━━━━\u001B[0m\u001B[37m\u001B[0m \u001B[1m5s\u001B[0m 12ms/step - accuracy: 0.7689 - loss: 1.5276 - val_accuracy: 0.4913 - val_loss: 2.5465\n",
      "Epoch 2/10\n",
      "\u001B[1m158/158\u001B[0m \u001B[32m━━━━━━━━━━━━━━━━━━━━\u001B[0m\u001B[37m\u001B[0m \u001B[1m1s\u001B[0m 7ms/step - accuracy: 0.7851 - loss: 1.5131 - val_accuracy: 0.4942 - val_loss: 2.5447\n",
      "Epoch 3/10\n",
      "\u001B[1m158/158\u001B[0m \u001B[32m━━━━━━━━━━━━━━━━━━━━\u001B[0m\u001B[37m\u001B[0m \u001B[1m1s\u001B[0m 7ms/step - accuracy: 0.7732 - loss: 1.5079 - val_accuracy: 0.4942 - val_loss: 2.5629\n",
      "Epoch 4/10\n",
      "\u001B[1m158/158\u001B[0m \u001B[32m━━━━━━━━━━━━━━━━━━━━\u001B[0m\u001B[37m\u001B[0m \u001B[1m1s\u001B[0m 7ms/step - accuracy: 0.7697 - loss: 1.5235 - val_accuracy: 0.4971 - val_loss: 2.5578\n",
      "Epoch 5/10\n",
      "\u001B[1m158/158\u001B[0m \u001B[32m━━━━━━━━━━━━━━━━━━━━\u001B[0m\u001B[37m\u001B[0m \u001B[1m1s\u001B[0m 8ms/step - accuracy: 0.7901 - loss: 1.5009 - val_accuracy: 0.5000 - val_loss: 2.5607\n"
     ]
    }
   ],
   "execution_count": 12
  },
  {
   "cell_type": "markdown",
   "metadata": {},
   "source": [
    "## Stage 2: Real Dataset Fine-tuning (13 classes)"
   ]
  },
  {
   "metadata": {
    "ExecuteTime": {
     "end_time": "2025-07-03T12:30:18.223054Z",
     "start_time": "2025-07-03T12:30:18.218034Z"
    }
   },
   "cell_type": "code",
   "source": [
    "# Real dataset paths\n",
    "real_base_path = \"../../data/dataset_no_oat_downsample\"\n",
    "\n",
    "# Get Real dataset class names (13 classes)\n",
    "real_class_names = sorted([d for d in os.listdir(real_base_path) \n",
    "                          if os.path.isdir(os.path.join(real_base_path, d))])\n",
    "print(f\"Real dataset classes ({len(real_class_names)}): {real_class_names}\")\n",
    "\n",
    "import os\n",
    "print(f\"Dataset path exists: {os.path.exists(real_base_path)}\")\n",
    "print(f\"Dataset path resolved: {os.path.abspath(real_base_path)}\")\n",
    "\n",
    "# Count images per class\n",
    "for class_name in real_class_names:\n",
    "    class_path = os.path.join(real_base_path, class_name)\n",
    "    if os.path.exists(class_path):\n",
    "        image_files = [f for f in os.listdir(class_path) \n",
    "                      if f.lower().endswith(('.png', '.jpg', '.jpeg'))]\n",
    "        print(f\"  {class_name}: {len(image_files)} images\")\n",
    "    else:\n",
    "        print(f\"  {class_name}: PATH NOT FOUND\")"
   ],
   "outputs": [
    {
     "name": "stdout",
     "output_type": "stream",
     "text": [
      "Real dataset classes (13): ['castor', 'chat', 'chien', 'coyotte', 'ecureuil', 'lapin', 'loup', 'lynx', 'ours', 'puma', 'rat', 'raton_laveur', 'renard']\n",
      "Dataset path exists: True\n",
      "Dataset path resolved: /home/hugo/PycharmProjects/Wildlens_Model/data/dataset_no_oat_downsample\n",
      "  castor: 85 images\n",
      "  chat: 85 images\n",
      "  chien: 85 images\n",
      "  coyotte: 85 images\n",
      "  ecureuil: 85 images\n",
      "  lapin: 85 images\n",
      "  loup: 85 images\n",
      "  lynx: 85 images\n",
      "  ours: 85 images\n",
      "  puma: 85 images\n",
      "  rat: 85 images\n",
      "  raton_laveur: 85 images\n",
      "  renard: 85 images\n"
     ]
    }
   ],
   "execution_count": 13
  },
  {
   "metadata": {
    "ExecuteTime": {
     "end_time": "2025-07-03T12:38:49.437738Z",
     "start_time": "2025-07-03T12:38:49.409852Z"
    }
   },
   "cell_type": "code",
   "source": [
    "# Create Real dataset with stratified split\n",
    "print(\"Creating Real dataset with stratified split\")\n",
    "\n",
    "# Use the corrected dataset path\n",
    "real_base_path = \"../../data/dataset_no_oat_downsample\"\n",
    "\n",
    "real_train_ds, real_val_ds = create_stratified_split_dataset(\n",
    "    real_base_path, \n",
    "    real_class_names, \n",
    "    batch_size=32, \n",
    "    train_split=0.8, \n",
    "    seed=42,\n",
    "    use_yolo_preprocessing=False\n",
    ")"
   ],
   "outputs": [
    {
     "name": "stdout",
     "output_type": "stream",
     "text": [
      "Creating Real dataset with stratified split\n",
      "Using simple preprocessing (no YOLO)\n",
      "Loading data from: /home/hugo/PycharmProjects/Wildlens_Model/data/dataset_no_oat_downsample\n",
      "Directory exists: True\n",
      "Class castor (idx 0): 85 images\n",
      "Class chat (idx 1): 85 images\n",
      "Class chien (idx 2): 85 images\n",
      "Class coyotte (idx 3): 85 images\n",
      "Class ecureuil (idx 4): 85 images\n",
      "Class lapin (idx 5): 85 images\n",
      "Class loup (idx 6): 85 images\n",
      "Class lynx (idx 7): 85 images\n",
      "Class ours (idx 8): 85 images\n",
      "Class puma (idx 9): 85 images\n",
      "Class rat (idx 10): 85 images\n",
      "Class raton_laveur (idx 11): 85 images\n",
      "Class renard (idx 12): 85 images\n",
      "Total: 1105 images across 13 classes\n",
      "Train: 884 images, Val: 221 images\n",
      "\n",
      "Class distribution:\n",
      "  castor: Train=68, Val=17\n",
      "  chat: Train=68, Val=17\n",
      "  chien: Train=68, Val=17\n",
      "  coyotte: Train=68, Val=17\n",
      "  ecureuil: Train=68, Val=17\n",
      "  lapin: Train=68, Val=17\n",
      "  loup: Train=68, Val=17\n",
      "  lynx: Train=68, Val=17\n",
      "  ours: Train=68, Val=17\n",
      "  puma: Train=68, Val=17\n",
      "  rat: Train=68, Val=17\n",
      "  raton_laveur: Train=68, Val=17\n",
      "  renard: Train=68, Val=17\n"
     ]
    }
   ],
   "execution_count": 28
  },
  {
   "metadata": {
    "ExecuteTime": {
     "end_time": "2025-07-03T12:38:50.549090Z",
     "start_time": "2025-07-03T12:38:50.145384Z"
    }
   },
   "cell_type": "code",
   "source": [
    "# Debug: Inspect actual batch content to verify data integrity\n",
    "print(\"BATCH INSPECTION - Checking data content\")\n",
    "\n",
    "# Take a few batches and inspect their content\n",
    "for batch_idx, (batch_images, batch_labels) in enumerate(real_train_ds.take(3)):\n",
    "    print(f\"\\nBatch {batch_idx + 1}:\")\n",
    "    print(f\"  Shape: {batch_images.shape}\")\n",
    "    print(f\"  Labels: {batch_labels.numpy()}\")\n",
    "    \n",
    "    # Check class distribution in this batch\n",
    "    unique_labels, counts = np.unique(batch_labels.numpy(), return_counts=True)\n",
    "    print(f\"  Classes in batch: {dict(zip(unique_labels, counts))}\")\n",
    "    \n",
    "    # Check if images are actually different (not all black/identical)\n",
    "    batch_mean = np.mean(batch_images.numpy())\n",
    "    batch_std = np.std(batch_images.numpy())\n",
    "    print(f\"  Image stats - Mean: {batch_mean:.4f}, Std: {batch_std:.4f}\")\n",
    "    \n",
    "    # Check individual image means to see if they're all the same\n",
    "    individual_means = np.mean(batch_images.numpy(), axis=(1,2,3))\n",
    "    print(f\"  Individual image means (first 5): {individual_means[:5]}\")\n",
    "    \n",
    "    if batch_std < 0.01:\n",
    "        print(\"WARNING: Very low std deviation - images might be identical/corrupted!\")\n",
    "    \n",
    "    if len(unique_labels) == 1:\n",
    "        print(f\"WARNING: Batch contains only one class: {real_class_names[unique_labels[0]]}\")\n",
    "    else:\n",
    "        print(f\"Good: Batch contains {len(unique_labels)} different classes\")\n"
   ],
   "outputs": [
    {
     "name": "stdout",
     "output_type": "stream",
     "text": [
      "BATCH INSPECTION - Checking data content\n",
      "\n",
      "Batch 1:\n",
      "  Shape: (32, 224, 224, 3)\n",
      "  Labels: [ 5  3  8  8  5  2  4 11  6  0  6  7  1  7  4 10  8  4 11  6  0  0  3 11\n",
      " 12  7  8  2  2 10  1 12]\n",
      "  Classes in batch: {np.int32(0): np.int64(3), np.int32(1): np.int64(2), np.int32(2): np.int64(3), np.int32(3): np.int64(2), np.int32(4): np.int64(3), np.int32(5): np.int64(2), np.int32(6): np.int64(3), np.int32(7): np.int64(3), np.int32(8): np.int64(4), np.int32(10): np.int64(2), np.int32(11): np.int64(3), np.int32(12): np.int64(2)}\n",
      "  Image stats - Mean: 0.5705, Std: 0.1649\n",
      "  Individual image means (first 5): [0.6390568  0.50817615 0.39927503 0.5108697  0.6341239 ]\n",
      "Good: Batch contains 12 different classes\n",
      "\n",
      "Batch 2:\n",
      "  Shape: (32, 224, 224, 3)\n",
      "  Labels: [ 4  5 11  3 10 10  8 11  0 12  8  1  7  0  9 11 11  8  9 10  0 12  9  5\n",
      "  5 12  5  7  4  5 10 12]\n",
      "  Classes in batch: {np.int32(0): np.int64(3), np.int32(1): np.int64(1), np.int32(3): np.int64(1), np.int32(4): np.int64(2), np.int32(5): np.int64(5), np.int32(7): np.int64(2), np.int32(8): np.int64(3), np.int32(9): np.int64(3), np.int32(10): np.int64(4), np.int32(11): np.int64(4), np.int32(12): np.int64(4)}\n",
      "  Image stats - Mean: 0.5597, Std: 0.1733\n",
      "  Individual image means (first 5): [0.55718917 0.5510857  0.68361694 0.6560904  0.7693696 ]\n",
      "Good: Batch contains 11 different classes\n",
      "\n",
      "Batch 3:\n",
      "  Shape: (32, 224, 224, 3)\n",
      "  Labels: [11  1  5  8  9  6  9  0  0  6  9  6  3 11  5  7  9 10  7  4 11  7  1  1\n",
      "  3  7 10  9  1  0  8  8]\n",
      "  Classes in batch: {np.int32(0): np.int64(3), np.int32(1): np.int64(4), np.int32(3): np.int64(2), np.int32(4): np.int64(1), np.int32(5): np.int64(2), np.int32(6): np.int64(3), np.int32(7): np.int64(4), np.int32(8): np.int64(3), np.int32(9): np.int64(5), np.int32(10): np.int64(2), np.int32(11): np.int64(3)}\n",
      "  Image stats - Mean: 0.5539, Std: 0.1828\n",
      "  Individual image means (first 5): [0.5327646 0.5634374 0.5845434 0.5703446 0.5099357]\n",
      "Good: Batch contains 11 different classes\n"
     ]
    }
   ],
   "execution_count": 29
  },
  {
   "metadata": {
    "ExecuteTime": {
     "end_time": "2025-07-03T12:38:51.110077Z",
     "start_time": "2025-07-03T12:38:50.629547Z"
    }
   },
   "cell_type": "code",
   "source": [
    "# Load Stage 1 model and extract backbone weights\n",
    "stage1_finetuned = keras.models.load_model(\"mobilenet_oat_stage1_fine_tuned.keras\")\n",
    "\n",
    "print(stage1_finetuned.layers)\n",
    "\n",
    "# Get the MobileNet backbone from Stage 1 model\n",
    "# Skip data augmentation layer (index 0) and get MobileNet (index 1)\n",
    "stage1_mobilenet = stage1_finetuned.layers[1]\n",
    "\n",
    "print(stage1_mobilenet)"
   ],
   "outputs": [
    {
     "name": "stdout",
     "output_type": "stream",
     "text": [
      "[<Sequential name=sequential, built=True>, <Functional name=MobileNetV3Small, built=True>, <GlobalAveragePooling2D name=global_average_pooling2d, built=True>, <Dense name=dense, built=True>, <Dropout name=dropout, built=True>, <BatchNormalization name=batch_normalization, built=True>, <Dense name=dense_1, built=True>, <Dropout name=dropout_1, built=True>, <Dense name=oat_classifier, built=True>]\n",
      "<Functional name=MobileNetV3Small, built=True>\n"
     ]
    }
   ],
   "execution_count": 30
  },
  {
   "cell_type": "code",
   "metadata": {
    "ExecuteTime": {
     "end_time": "2025-07-03T12:38:51.271166Z",
     "start_time": "2025-07-03T12:38:51.237218Z"
    }
   },
   "source": [
    "# Build Stage 2 model (13 classes) with new classification head\n",
    "\n",
    "# Unfreeze last N layers for fine-tuning\n",
    "fine_tune_at = len(stage1_mobilenet.layers) - 20\n",
    "stage1_mobilenet.trainable = True\n",
    "\n",
    "for layer in stage1_mobilenet.layers[:fine_tune_at]:\n",
    "    layer.trainable = False\n",
    "\n",
    "print(f\"Unfroze last {len(stage1_mobilenet.layers) - fine_tune_at} layers for fine-tuning\")\n",
    "\n",
    "# Stage 2 model with reduced regularization\n",
    "stage2_model = keras.Sequential([\n",
    "    data_augmentation,\n",
    "    stage1_mobilenet,\n",
    "    keras.layers.GlobalAveragePooling2D(),\n",
    "    keras.layers.Dense(512, activation=\"relu\", kernel_regularizer=keras.regularizers.l2(0.001)),\n",
    "    keras.layers.Dropout(0.2),\n",
    "    keras.layers.BatchNormalization(),\n",
    "    keras.layers.Dense(256, activation=\"relu\", kernel_regularizer=keras.regularizers.l2(0.001)),\n",
    "    keras.layers.Dropout(0.2),\n",
    "    keras.layers.Dense(13, activation=\"softmax\", name=\"real_classifier\")\n",
    "], name=\"stage2_real_model\")\n",
    "\n",
    "print(\"Stage 2 model architecture:\")\n",
    "stage2_model.summary()"
   ],
   "outputs": [
    {
     "name": "stdout",
     "output_type": "stream",
     "text": [
      "Unfroze last 20 layers for fine-tuning\n",
      "Stage 2 model architecture:\n"
     ]
    },
    {
     "data": {
      "text/plain": [
       "\u001B[1mModel: \"stage2_real_model\"\u001B[0m\n"
      ],
      "text/html": [
       "<pre style=\"white-space:pre;overflow-x:auto;line-height:normal;font-family:Menlo,'DejaVu Sans Mono',consolas,'Courier New',monospace\"><span style=\"font-weight: bold\">Model: \"stage2_real_model\"</span>\n",
       "</pre>\n"
      ]
     },
     "metadata": {},
     "output_type": "display_data"
    },
    {
     "data": {
      "text/plain": [
       "┏━━━━━━━━━━━━━━━━━━━━━━━━━━━━━━━━━┳━━━━━━━━━━━━━━━━━━━━━━━━┳━━━━━━━━━━━━━━━┓\n",
       "┃\u001B[1m \u001B[0m\u001B[1mLayer (type)                   \u001B[0m\u001B[1m \u001B[0m┃\u001B[1m \u001B[0m\u001B[1mOutput Shape          \u001B[0m\u001B[1m \u001B[0m┃\u001B[1m \u001B[0m\u001B[1m      Param #\u001B[0m\u001B[1m \u001B[0m┃\n",
       "┡━━━━━━━━━━━━━━━━━━━━━━━━━━━━━━━━━╇━━━━━━━━━━━━━━━━━━━━━━━━╇━━━━━━━━━━━━━━━┩\n",
       "│ sequential (\u001B[38;5;33mSequential\u001B[0m)         │ (\u001B[38;5;45mNone\u001B[0m, \u001B[38;5;34m224\u001B[0m, \u001B[38;5;34m224\u001B[0m, \u001B[38;5;34m3\u001B[0m)    │             \u001B[38;5;34m0\u001B[0m │\n",
       "├─────────────────────────────────┼────────────────────────┼───────────────┤\n",
       "│ MobileNetV3Small (\u001B[38;5;33mFunctional\u001B[0m)   │ (\u001B[38;5;45mNone\u001B[0m, \u001B[38;5;34m7\u001B[0m, \u001B[38;5;34m7\u001B[0m, \u001B[38;5;34m576\u001B[0m)      │       \u001B[38;5;34m939,120\u001B[0m │\n",
       "├─────────────────────────────────┼────────────────────────┼───────────────┤\n",
       "│ global_average_pooling2d_2      │ (\u001B[38;5;45mNone\u001B[0m, \u001B[38;5;34m576\u001B[0m)            │             \u001B[38;5;34m0\u001B[0m │\n",
       "│ (\u001B[38;5;33mGlobalAveragePooling2D\u001B[0m)        │                        │               │\n",
       "├─────────────────────────────────┼────────────────────────┼───────────────┤\n",
       "│ dense_4 (\u001B[38;5;33mDense\u001B[0m)                 │ (\u001B[38;5;45mNone\u001B[0m, \u001B[38;5;34m512\u001B[0m)            │       \u001B[38;5;34m295,424\u001B[0m │\n",
       "├─────────────────────────────────┼────────────────────────┼───────────────┤\n",
       "│ dropout_4 (\u001B[38;5;33mDropout\u001B[0m)             │ (\u001B[38;5;45mNone\u001B[0m, \u001B[38;5;34m512\u001B[0m)            │             \u001B[38;5;34m0\u001B[0m │\n",
       "├─────────────────────────────────┼────────────────────────┼───────────────┤\n",
       "│ batch_normalization_2           │ (\u001B[38;5;45mNone\u001B[0m, \u001B[38;5;34m512\u001B[0m)            │         \u001B[38;5;34m2,048\u001B[0m │\n",
       "│ (\u001B[38;5;33mBatchNormalization\u001B[0m)            │                        │               │\n",
       "├─────────────────────────────────┼────────────────────────┼───────────────┤\n",
       "│ dense_5 (\u001B[38;5;33mDense\u001B[0m)                 │ (\u001B[38;5;45mNone\u001B[0m, \u001B[38;5;34m256\u001B[0m)            │       \u001B[38;5;34m131,328\u001B[0m │\n",
       "├─────────────────────────────────┼────────────────────────┼───────────────┤\n",
       "│ dropout_5 (\u001B[38;5;33mDropout\u001B[0m)             │ (\u001B[38;5;45mNone\u001B[0m, \u001B[38;5;34m256\u001B[0m)            │             \u001B[38;5;34m0\u001B[0m │\n",
       "├─────────────────────────────────┼────────────────────────┼───────────────┤\n",
       "│ real_classifier (\u001B[38;5;33mDense\u001B[0m)         │ (\u001B[38;5;45mNone\u001B[0m, \u001B[38;5;34m13\u001B[0m)             │         \u001B[38;5;34m3,341\u001B[0m │\n",
       "└─────────────────────────────────┴────────────────────────┴───────────────┘\n"
      ],
      "text/html": [
       "<pre style=\"white-space:pre;overflow-x:auto;line-height:normal;font-family:Menlo,'DejaVu Sans Mono',consolas,'Courier New',monospace\">┏━━━━━━━━━━━━━━━━━━━━━━━━━━━━━━━━━┳━━━━━━━━━━━━━━━━━━━━━━━━┳━━━━━━━━━━━━━━━┓\n",
       "┃<span style=\"font-weight: bold\"> Layer (type)                    </span>┃<span style=\"font-weight: bold\"> Output Shape           </span>┃<span style=\"font-weight: bold\">       Param # </span>┃\n",
       "┡━━━━━━━━━━━━━━━━━━━━━━━━━━━━━━━━━╇━━━━━━━━━━━━━━━━━━━━━━━━╇━━━━━━━━━━━━━━━┩\n",
       "│ sequential (<span style=\"color: #0087ff; text-decoration-color: #0087ff\">Sequential</span>)         │ (<span style=\"color: #00d7ff; text-decoration-color: #00d7ff\">None</span>, <span style=\"color: #00af00; text-decoration-color: #00af00\">224</span>, <span style=\"color: #00af00; text-decoration-color: #00af00\">224</span>, <span style=\"color: #00af00; text-decoration-color: #00af00\">3</span>)    │             <span style=\"color: #00af00; text-decoration-color: #00af00\">0</span> │\n",
       "├─────────────────────────────────┼────────────────────────┼───────────────┤\n",
       "│ MobileNetV3Small (<span style=\"color: #0087ff; text-decoration-color: #0087ff\">Functional</span>)   │ (<span style=\"color: #00d7ff; text-decoration-color: #00d7ff\">None</span>, <span style=\"color: #00af00; text-decoration-color: #00af00\">7</span>, <span style=\"color: #00af00; text-decoration-color: #00af00\">7</span>, <span style=\"color: #00af00; text-decoration-color: #00af00\">576</span>)      │       <span style=\"color: #00af00; text-decoration-color: #00af00\">939,120</span> │\n",
       "├─────────────────────────────────┼────────────────────────┼───────────────┤\n",
       "│ global_average_pooling2d_2      │ (<span style=\"color: #00d7ff; text-decoration-color: #00d7ff\">None</span>, <span style=\"color: #00af00; text-decoration-color: #00af00\">576</span>)            │             <span style=\"color: #00af00; text-decoration-color: #00af00\">0</span> │\n",
       "│ (<span style=\"color: #0087ff; text-decoration-color: #0087ff\">GlobalAveragePooling2D</span>)        │                        │               │\n",
       "├─────────────────────────────────┼────────────────────────┼───────────────┤\n",
       "│ dense_4 (<span style=\"color: #0087ff; text-decoration-color: #0087ff\">Dense</span>)                 │ (<span style=\"color: #00d7ff; text-decoration-color: #00d7ff\">None</span>, <span style=\"color: #00af00; text-decoration-color: #00af00\">512</span>)            │       <span style=\"color: #00af00; text-decoration-color: #00af00\">295,424</span> │\n",
       "├─────────────────────────────────┼────────────────────────┼───────────────┤\n",
       "│ dropout_4 (<span style=\"color: #0087ff; text-decoration-color: #0087ff\">Dropout</span>)             │ (<span style=\"color: #00d7ff; text-decoration-color: #00d7ff\">None</span>, <span style=\"color: #00af00; text-decoration-color: #00af00\">512</span>)            │             <span style=\"color: #00af00; text-decoration-color: #00af00\">0</span> │\n",
       "├─────────────────────────────────┼────────────────────────┼───────────────┤\n",
       "│ batch_normalization_2           │ (<span style=\"color: #00d7ff; text-decoration-color: #00d7ff\">None</span>, <span style=\"color: #00af00; text-decoration-color: #00af00\">512</span>)            │         <span style=\"color: #00af00; text-decoration-color: #00af00\">2,048</span> │\n",
       "│ (<span style=\"color: #0087ff; text-decoration-color: #0087ff\">BatchNormalization</span>)            │                        │               │\n",
       "├─────────────────────────────────┼────────────────────────┼───────────────┤\n",
       "│ dense_5 (<span style=\"color: #0087ff; text-decoration-color: #0087ff\">Dense</span>)                 │ (<span style=\"color: #00d7ff; text-decoration-color: #00d7ff\">None</span>, <span style=\"color: #00af00; text-decoration-color: #00af00\">256</span>)            │       <span style=\"color: #00af00; text-decoration-color: #00af00\">131,328</span> │\n",
       "├─────────────────────────────────┼────────────────────────┼───────────────┤\n",
       "│ dropout_5 (<span style=\"color: #0087ff; text-decoration-color: #0087ff\">Dropout</span>)             │ (<span style=\"color: #00d7ff; text-decoration-color: #00d7ff\">None</span>, <span style=\"color: #00af00; text-decoration-color: #00af00\">256</span>)            │             <span style=\"color: #00af00; text-decoration-color: #00af00\">0</span> │\n",
       "├─────────────────────────────────┼────────────────────────┼───────────────┤\n",
       "│ real_classifier (<span style=\"color: #0087ff; text-decoration-color: #0087ff\">Dense</span>)         │ (<span style=\"color: #00d7ff; text-decoration-color: #00d7ff\">None</span>, <span style=\"color: #00af00; text-decoration-color: #00af00\">13</span>)             │         <span style=\"color: #00af00; text-decoration-color: #00af00\">3,341</span> │\n",
       "└─────────────────────────────────┴────────────────────────┴───────────────┘\n",
       "</pre>\n"
      ]
     },
     "metadata": {},
     "output_type": "display_data"
    },
    {
     "data": {
      "text/plain": [
       "\u001B[1m Total params: \u001B[0m\u001B[38;5;34m1,371,261\u001B[0m (5.23 MB)\n"
      ],
      "text/html": [
       "<pre style=\"white-space:pre;overflow-x:auto;line-height:normal;font-family:Menlo,'DejaVu Sans Mono',consolas,'Courier New',monospace\"><span style=\"font-weight: bold\"> Total params: </span><span style=\"color: #00af00; text-decoration-color: #00af00\">1,371,261</span> (5.23 MB)\n",
       "</pre>\n"
      ]
     },
     "metadata": {},
     "output_type": "display_data"
    },
    {
     "data": {
      "text/plain": [
       "\u001B[1m Trainable params: \u001B[0m\u001B[38;5;34m781,853\u001B[0m (2.98 MB)\n"
      ],
      "text/html": [
       "<pre style=\"white-space:pre;overflow-x:auto;line-height:normal;font-family:Menlo,'DejaVu Sans Mono',consolas,'Courier New',monospace\"><span style=\"font-weight: bold\"> Trainable params: </span><span style=\"color: #00af00; text-decoration-color: #00af00\">781,853</span> (2.98 MB)\n",
       "</pre>\n"
      ]
     },
     "metadata": {},
     "output_type": "display_data"
    },
    {
     "data": {
      "text/plain": [
       "\u001B[1m Non-trainable params: \u001B[0m\u001B[38;5;34m589,408\u001B[0m (2.25 MB)\n"
      ],
      "text/html": [
       "<pre style=\"white-space:pre;overflow-x:auto;line-height:normal;font-family:Menlo,'DejaVu Sans Mono',consolas,'Courier New',monospace\"><span style=\"font-weight: bold\"> Non-trainable params: </span><span style=\"color: #00af00; text-decoration-color: #00af00\">589,408</span> (2.25 MB)\n",
       "</pre>\n"
      ]
     },
     "metadata": {},
     "output_type": "display_data"
    }
   ],
   "execution_count": 31
  },
  {
   "cell_type": "code",
   "metadata": {
    "ExecuteTime": {
     "end_time": "2025-07-03T12:38:51.983794Z",
     "start_time": "2025-07-03T12:38:51.976778Z"
    }
   },
   "source": [
    "# Compile Stage 2 model with improved learning rate\n",
    "stage2_model.compile(\n",
    "    optimizer=keras.optimizers.Adam(learning_rate=1e-3),\n",
    "    loss=\"sparse_categorical_crossentropy\",\n",
    "    metrics=[\"accuracy\"]\n",
    ")\n",
    "\n",
    "# Custom callback to monitor per-class accuracy\n",
    "class PerClassAccuracyCallback(keras.callbacks.Callback):\n",
    "    def __init__(self, validation_data, class_names):\n",
    "        super().__init__()\n",
    "        self.validation_data = validation_data\n",
    "        self.class_names = class_names\n",
    "    \n",
    "    def on_epoch_end(self, epoch, logs=None):\n",
    "        if epoch % 5 == 0:\n",
    "            y_true = []\n",
    "            y_pred = []\n",
    "            \n",
    "            for batch_images, batch_labels in self.validation_data:\n",
    "                predictions = self.model.predict(batch_images, verbose=0)\n",
    "                predicted_classes = np.argmax(predictions, axis=1)\n",
    "                \n",
    "                y_true.extend(batch_labels.numpy())\n",
    "                y_pred.extend(predicted_classes)\n",
    "            \n",
    "            y_true = np.array(y_true)\n",
    "            y_pred = np.array(y_pred)\n",
    "            \n",
    "            # Calculate per-class accuracy\n",
    "            class_accuracies = []\n",
    "            for i, class_name in enumerate(self.class_names):\n",
    "                class_mask = y_true == i\n",
    "                if np.sum(class_mask) > 0:\n",
    "                    class_acc = np.mean(y_pred[class_mask] == y_true[class_mask])\n",
    "                    class_accuracies.append(class_acc)\n",
    "                else:\n",
    "                    class_accuracies.append(0.0)\n",
    "            \n",
    "            print(f\"\\nEpoch {epoch} - Per-class validation accuracy:\")\n",
    "            for i, (class_name, acc) in enumerate(zip(self.class_names, class_accuracies)):\n",
    "                print(f\"  {class_name}: {acc:.3f}\")\n",
    "            print(f\"  Mean: {np.mean(class_accuracies):.3f}\")\n",
    "\n",
    "# Define improved callbacks for Stage 2\n",
    "stage2_callbacks = [\n",
    "    keras.callbacks.EarlyStopping(\n",
    "        monitor=\"val_loss\",\n",
    "        patience=5,\n",
    "        restore_best_weights=True,\n",
    "        verbose=1\n",
    "    ),\n",
    "    keras.callbacks.ReduceLROnPlateau(\n",
    "        monitor=\"val_loss\",\n",
    "        factor=0.5,\n",
    "        patience=3,\n",
    "        min_lr=1e-7,\n",
    "        verbose=1\n",
    "    ),\n",
    "    PerClassAccuracyCallback(real_val_ds, real_class_names)\n",
    "]"
   ],
   "outputs": [],
   "execution_count": 32
  },
  {
   "cell_type": "code",
   "metadata": {
    "ExecuteTime": {
     "end_time": "2025-07-03T12:39:20.871795Z",
     "start_time": "2025-07-03T12:38:52.734301Z"
    }
   },
   "source": [
    "# Train Stage 2 model\n",
    "print(\"Starting Stage 2 fine-tuning on Real dataset...\")\n",
    "stage2_history = stage2_model.fit(\n",
    "    real_train_ds,\n",
    "    epochs=60,\n",
    "    validation_data=real_val_ds,\n",
    "    callbacks=stage2_callbacks,\n",
    "    verbose=1\n",
    ")\n",
    "\n",
    "# Save Stage 2 model\n",
    "stage2_model.save(\"mobilenet_real_stage2.keras\")\n",
    "print(\"Stage 2 model saved as 'mobilenet_real_stage2.keras'\")"
   ],
   "outputs": [
    {
     "name": "stdout",
     "output_type": "stream",
     "text": [
      "Starting Stage 2 fine-tuning on Real dataset...\n",
      "Epoch 1/60\n",
      "\u001B[1m24/28\u001B[0m \u001B[32m━━━━━━━━━━━━━━━━━\u001B[0m\u001B[37m━━━\u001B[0m \u001B[1m0s\u001B[0m 82ms/step - accuracy: 0.0983 - loss: 3.7174\n",
      "Epoch 0 - Per-class validation accuracy:\n",
      "  castor: 0.000\n",
      "  chat: 0.000\n",
      "  chien: 0.000\n",
      "  coyotte: 0.000\n",
      "  ecureuil: 0.000\n",
      "  lapin: 0.000\n",
      "  loup: 0.000\n",
      "  lynx: 0.000\n",
      "  ours: 1.000\n",
      "  puma: 0.000\n",
      "  rat: 0.000\n",
      "  raton_laveur: 0.000\n",
      "  renard: 0.000\n",
      "  Mean: 0.077\n",
      "\u001B[1m28/28\u001B[0m \u001B[32m━━━━━━━━━━━━━━━━━━━━\u001B[0m\u001B[37m\u001B[0m \u001B[1m11s\u001B[0m 235ms/step - accuracy: 0.0969 - loss: 3.7031 - val_accuracy: 0.0769 - val_loss: 3.3118 - learning_rate: 0.0010\n",
      "Epoch 2/60\n",
      "\u001B[1m28/28\u001B[0m \u001B[32m━━━━━━━━━━━━━━━━━━━━\u001B[0m\u001B[37m\u001B[0m \u001B[1m3s\u001B[0m 94ms/step - accuracy: 0.1029 - loss: 3.4453 - val_accuracy: 0.1041 - val_loss: 3.2782 - learning_rate: 0.0010\n",
      "Epoch 3/60\n",
      "\u001B[1m28/28\u001B[0m \u001B[32m━━━━━━━━━━━━━━━━━━━━\u001B[0m\u001B[37m\u001B[0m \u001B[1m3s\u001B[0m 92ms/step - accuracy: 0.0869 - loss: 3.3843 - val_accuracy: 0.0769 - val_loss: 3.3134 - learning_rate: 0.0010\n",
      "Epoch 4/60\n",
      "\u001B[1m28/28\u001B[0m \u001B[32m━━━━━━━━━━━━━━━━━━━━\u001B[0m\u001B[37m\u001B[0m \u001B[1m3s\u001B[0m 96ms/step - accuracy: 0.0918 - loss: 3.2831 - val_accuracy: 0.0769 - val_loss: 3.3623 - learning_rate: 0.0010\n",
      "Epoch 5/60\n",
      "\u001B[1m27/28\u001B[0m \u001B[32m━━━━━━━━━━━━━━━━━━━\u001B[0m\u001B[37m━\u001B[0m \u001B[1m0s\u001B[0m 72ms/step - accuracy: 0.1135 - loss: 3.2334\n",
      "Epoch 5: ReduceLROnPlateau reducing learning rate to 0.0005000000237487257.\n",
      "\u001B[1m28/28\u001B[0m \u001B[32m━━━━━━━━━━━━━━━━━━━━\u001B[0m\u001B[37m\u001B[0m \u001B[1m3s\u001B[0m 91ms/step - accuracy: 0.1126 - loss: 3.2329 - val_accuracy: 0.0769 - val_loss: 3.3727 - learning_rate: 0.0010\n",
      "Epoch 6/60\n",
      "\u001B[1m25/28\u001B[0m \u001B[32m━━━━━━━━━━━━━━━━━\u001B[0m\u001B[37m━━━\u001B[0m \u001B[1m0s\u001B[0m 81ms/step - accuracy: 0.1073 - loss: 3.1380\n",
      "Epoch 5 - Per-class validation accuracy:\n",
      "  castor: 0.000\n",
      "  chat: 0.000\n",
      "  chien: 0.000\n",
      "  coyotte: 0.000\n",
      "  ecureuil: 0.000\n",
      "  lapin: 0.000\n",
      "  loup: 0.000\n",
      "  lynx: 0.000\n",
      "  ours: 0.000\n",
      "  puma: 0.000\n",
      "  rat: 1.000\n",
      "  raton_laveur: 0.000\n",
      "  renard: 0.000\n",
      "  Mean: 0.077\n",
      "\u001B[1m28/28\u001B[0m \u001B[32m━━━━━━━━━━━━━━━━━━━━\u001B[0m\u001B[37m\u001B[0m \u001B[1m4s\u001B[0m 131ms/step - accuracy: 0.1062 - loss: 3.1412 - val_accuracy: 0.0769 - val_loss: 3.4655 - learning_rate: 5.0000e-04\n",
      "Epoch 7/60\n",
      "\u001B[1m28/28\u001B[0m \u001B[32m━━━━━━━━━━━━━━━━━━━━\u001B[0m\u001B[37m\u001B[0m \u001B[1m3s\u001B[0m 91ms/step - accuracy: 0.1196 - loss: 3.1342 - val_accuracy: 0.0724 - val_loss: 3.5779 - learning_rate: 5.0000e-04\n",
      "Epoch 7: early stopping\n",
      "Restoring model weights from the end of the best epoch: 2.\n",
      "Stage 2 model saved as 'mobilenet_real_stage2.keras'\n"
     ]
    }
   ],
   "execution_count": 33
  },
  {
   "cell_type": "code",
   "metadata": {
    "ExecuteTime": {
     "end_time": "2025-07-03T12:39:21.480204Z",
     "start_time": "2025-07-03T12:39:20.920719Z"
    }
   },
   "source": [
    "# Evaluate Stage 2 model\n",
    "print(\"Evaluating Stage 2 model...\")\n",
    "stage2_val_loss, stage2_val_accuracy = stage2_model.evaluate(real_val_ds, verbose=1)\n",
    "print(f\"Stage 2 Validation Accuracy: {stage2_val_accuracy:.4f}\")\n",
    "print(f\"Stage 2 Validation Loss: {stage2_val_loss:.4f}\")"
   ],
   "outputs": [
    {
     "name": "stdout",
     "output_type": "stream",
     "text": [
      "Evaluating Stage 2 model...\n",
      "\u001B[1m7/7\u001B[0m \u001B[32m━━━━━━━━━━━━━━━━━━━━\u001B[0m\u001B[37m\u001B[0m \u001B[1m1s\u001B[0m 64ms/step - accuracy: 0.0921 - loss: 3.2774\n",
      "Stage 2 Validation Accuracy: 0.1041\n",
      "Stage 2 Validation Loss: 3.2782\n"
     ]
    }
   ],
   "execution_count": 34
  },
  {
   "cell_type": "markdown",
   "metadata": {},
   "source": [
    "## Comprehensive Evaluation and Visualization"
   ]
  },
  {
   "cell_type": "code",
   "metadata": {
    "ExecuteTime": {
     "end_time": "2025-07-03T12:39:30.050827Z",
     "start_time": "2025-07-03T12:39:29.642691Z"
    }
   },
   "source": [
    "# Plot training histories\n",
    "def plot_training_history(history, title, stage_num):\n",
    "    fig, (ax1, ax2) = plt.subplots(1, 2, figsize=(15, 5))\n",
    "    \n",
    "    # Loss plot\n",
    "    ax1.plot(history.history['loss'], label='Training Loss', linewidth=2)\n",
    "    ax1.plot(history.history['val_loss'], label='Validation Loss', linewidth=2)\n",
    "    ax1.set_title(f'{title} - Loss')\n",
    "    ax1.set_xlabel('Epoch')\n",
    "    ax1.set_ylabel('Loss')\n",
    "    ax1.legend()\n",
    "    ax1.grid(True, alpha=0.3)\n",
    "    \n",
    "    # Accuracy plot\n",
    "    ax2.plot(history.history['accuracy'], label='Training Accuracy', linewidth=2)\n",
    "    ax2.plot(history.history['val_accuracy'], label='Validation Accuracy', linewidth=2)\n",
    "    ax2.set_title(f'{title} - Accuracy')\n",
    "    ax2.set_xlabel('Epoch')\n",
    "    ax2.set_ylabel('Accuracy')\n",
    "    ax2.legend()\n",
    "    ax2.grid(True, alpha=0.3)\n",
    "    \n",
    "    plt.tight_layout()\n",
    "    plt.show()\n",
    "    \n",
    "    # Print final metrics\n",
    "    final_train_acc = history.history['accuracy'][-1]\n",
    "    final_val_acc = history.history['val_accuracy'][-1]\n",
    "    final_train_loss = history.history['loss'][-1]\n",
    "    final_val_loss = history.history['val_loss'][-1]\n",
    "    \n",
    "    print(f\"\\n{title} Final Metrics:\")\n",
    "    print(f\"Training Accuracy: {final_train_acc:.4f}\")\n",
    "    print(f\"Validation Accuracy: {final_val_acc:.4f}\")\n",
    "    print(f\"Training Loss: {final_train_loss:.4f}\")\n",
    "    print(f\"Validation Loss: {final_val_loss:.4f}\")\n",
    "    \n",
    "# Plot both training histories\n",
    "plot_training_history(stage1_history, \"Stage 1: OAT Dataset Training\", 1)\n",
    "plot_training_history(stage2_history, \"Stage 2: Real Dataset Fine-tuning\", 2)"
   ],
   "outputs": [
    {
     "data": {
      "text/plain": [
       "<Figure size 1500x500 with 2 Axes>"
      ],
      "image/png": "[encoded data removed]"
     },
     "metadata": {},
     "output_type": "display_data"
    },
    {
     "name": "stdout",
     "output_type": "stream",
     "text": [
      "\n",
      "Stage 1: OAT Dataset Training Final Metrics:\n",
      "Training Accuracy: 0.7729\n",
      "Validation Accuracy: 0.4942\n",
      "Training Loss: 1.5168\n",
      "Validation Loss: 2.5551\n"
     ]
    },
    {
     "data": {
      "text/plain": [
       "<Figure size 1500x500 with 2 Axes>"
      ],
      "image/png": "[encoded data removed]"
     },
     "metadata": {},
     "output_type": "display_data"
    },
    {
     "name": "stdout",
     "output_type": "stream",
     "text": [
      "\n",
      "Stage 2: Real Dataset Fine-tuning Final Metrics:\n",
      "Training Accuracy: 0.1176\n",
      "Validation Accuracy: 0.0724\n",
      "Training Loss: 3.1269\n",
      "Validation Loss: 3.5779\n"
     ]
    }
   ],
   "execution_count": 35
  },
  {
   "cell_type": "code",
   "metadata": {
    "ExecuteTime": {
     "end_time": "2025-07-03T12:39:31.144098Z",
     "start_time": "2025-07-03T12:39:30.162541Z"
    }
   },
   "source": [
    "# Generate predictions for confusion matrix (Stage 2)\n",
    "y_true = []\n",
    "y_pred = []\n",
    "\n",
    "for batch_images, batch_labels in real_val_ds:\n",
    "    predictions = stage2_model.predict(batch_images, verbose=0)\n",
    "    predicted_classes = np.argmax(predictions, axis=1)\n",
    "    \n",
    "    y_true.extend(batch_labels.numpy())\n",
    "    y_pred.extend(predicted_classes)\n",
    "\n",
    "y_true = np.array(y_true)\n",
    "y_pred = np.array(y_pred)"
   ],
   "outputs": [
    {
     "name": "stderr",
     "output_type": "stream",
     "text": [
      "2025-07-03 14:39:31.141068: I tensorflow/core/framework/local_rendezvous.cc:405] Local rendezvous is aborting with status: OUT_OF_RANGE: End of sequence\n"
     ]
    }
   ],
   "execution_count": 36
  },
  {
   "cell_type": "code",
   "metadata": {
    "ExecuteTime": {
     "end_time": "2025-07-03T12:39:32.868143Z",
     "start_time": "2025-07-03T12:39:32.327401Z"
    }
   },
   "source": [
    "# Plot confusion matrix\n",
    "cm = confusion_matrix(y_true, y_pred)\n",
    "plt.figure(figsize=(12, 10))\n",
    "sns.heatmap(cm, annot=True, fmt='d', cmap='Blues', \n",
    "            xticklabels=real_class_names, \n",
    "            yticklabels=real_class_names)\n",
    "plt.title('Confusion Matrix - Stage 2 (Real Dataset)')\n",
    "plt.xlabel('Predicted Class')\n",
    "plt.ylabel('True Class')\n",
    "plt.xticks(rotation=45, ha='right')\n",
    "plt.yticks(rotation=0)\n",
    "plt.tight_layout()\n",
    "plt.show()"
   ],
   "outputs": [
    {
     "data": {
      "text/plain": [
       "<Figure size 1200x1000 with 2 Axes>"
      ],
      "image/png": "[encoded data removed]"
     },
     "metadata": {},
     "output_type": "display_data"
    }
   ],
   "execution_count": 37
  },
  {
   "cell_type": "code",
   "metadata": {
    "ExecuteTime": {
     "end_time": "2025-07-03T12:39:32.907725Z",
     "start_time": "2025-07-03T12:39:32.901664Z"
    }
   },
   "source": [
    "# Classification report\n",
    "print(\"\\nClassification Report - Stage 2 (Real Dataset):\")\n",
    "print(\"=\" * 60)\n",
    "report = classification_report(y_true, y_pred, target_names=real_class_names, digits=4)\n",
    "print(report)"
   ],
   "outputs": [
    {
     "name": "stdout",
     "output_type": "stream",
     "text": [
      "\n",
      "Classification Report - Stage 2 (Real Dataset):\n",
      "============================================================\n",
      "              precision    recall  f1-score   support\n",
      "\n",
      "      castor     0.0000    0.0000    0.0000        17\n",
      "        chat     0.0000    0.0000    0.0000        17\n",
      "       chien     0.0000    0.0000    0.0000        17\n",
      "     coyotte     0.0000    0.0000    0.0000        17\n",
      "    ecureuil     0.0000    0.0000    0.0000        17\n",
      "       lapin     0.0920    0.9412    0.1675        17\n",
      "        loup     0.0000    0.0000    0.0000        17\n",
      "        lynx     0.0000    0.0000    0.0000        17\n",
      "        ours     0.0000    0.0000    0.0000        17\n",
      "        puma     0.0000    0.0000    0.0000        17\n",
      "         rat     0.1489    0.4118    0.2188        17\n",
      "raton_laveur     0.0000    0.0000    0.0000        17\n",
      "      renard     0.0000    0.0000    0.0000        17\n",
      "\n",
      "    accuracy                         0.1041       221\n",
      "   macro avg     0.0185    0.1041    0.0297       221\n",
      "weighted avg     0.0185    0.1041    0.0297       221\n",
      "\n"
     ]
    },
    {
     "name": "stderr",
     "output_type": "stream",
     "text": [
      "/home/hugo/miniconda3/envs/tf/lib/python3.12/site-packages/sklearn/metrics/_classification.py:1706: UndefinedMetricWarning: Precision is ill-defined and being set to 0.0 in labels with no predicted samples. Use `zero_division` parameter to control this behavior.\n",
      "  _warn_prf(average, modifier, f\"{metric.capitalize()} is\", result.shape[0])\n",
      "/home/hugo/miniconda3/envs/tf/lib/python3.12/site-packages/sklearn/metrics/_classification.py:1706: UndefinedMetricWarning: Precision is ill-defined and being set to 0.0 in labels with no predicted samples. Use `zero_division` parameter to control this behavior.\n",
      "  _warn_prf(average, modifier, f\"{metric.capitalize()} is\", result.shape[0])\n",
      "/home/hugo/miniconda3/envs/tf/lib/python3.12/site-packages/sklearn/metrics/_classification.py:1706: UndefinedMetricWarning: Precision is ill-defined and being set to 0.0 in labels with no predicted samples. Use `zero_division` parameter to control this behavior.\n",
      "  _warn_prf(average, modifier, f\"{metric.capitalize()} is\", result.shape[0])\n"
     ]
    }
   ],
   "execution_count": 38
  },
  {
   "cell_type": "code",
   "metadata": {
    "ExecuteTime": {
     "end_time": "2025-07-03T12:39:33.845418Z",
     "start_time": "2025-07-03T12:39:33.838491Z"
    }
   },
   "source": [
    "# Per-class accuracy analysis\n",
    "from sklearn.metrics import accuracy_score\n",
    "import pandas as pd\n",
    "\n",
    "# Calculate per-class accuracy\n",
    "per_class_accuracy = []\n",
    "for i, class_name in enumerate(real_class_names):\n",
    "    class_mask = y_true == i\n",
    "    if np.sum(class_mask) > 0:\n",
    "        class_acc = accuracy_score(y_true[class_mask], y_pred[class_mask])\n",
    "        per_class_accuracy.append(class_acc)\n",
    "    else:\n",
    "        per_class_accuracy.append(0.0)\n",
    "\n",
    "# Create DataFrame for better visualization\n",
    "results_df = pd.DataFrame({\n",
    "    'Class': real_class_names,\n",
    "    'Accuracy': per_class_accuracy,\n",
    "    'Support': [np.sum(y_true == i) for i in range(len(real_class_names))]\n",
    "})\n",
    "\n",
    "results_df = results_df.sort_values('Accuracy', ascending=False)\n",
    "print(\"\\nPer-Class Performance:\")\n",
    "print(\"=\" * 40)\n",
    "print(results_df.to_string(index=False, float_format='%.4f'))\n",
    "\n",
    "# Overall metrics\n",
    "overall_accuracy = accuracy_score(y_true, y_pred)\n",
    "print(f\"\\nOverall Accuracy: {overall_accuracy:.4f}\")\n",
    "print(f\"Mean Per-Class Accuracy: {np.mean(per_class_accuracy):.4f}\")"
   ],
   "outputs": [
    {
     "name": "stdout",
     "output_type": "stream",
     "text": [
      "\n",
      "Per-Class Performance:\n",
      "========================================\n",
      "       Class  Accuracy  Support\n",
      "       lapin    0.9412       17\n",
      "         rat    0.4118       17\n",
      "       chien    0.0000       17\n",
      "        chat    0.0000       17\n",
      "      castor    0.0000       17\n",
      "    ecureuil    0.0000       17\n",
      "     coyotte    0.0000       17\n",
      "        lynx    0.0000       17\n",
      "        loup    0.0000       17\n",
      "        ours    0.0000       17\n",
      "        puma    0.0000       17\n",
      "raton_laveur    0.0000       17\n",
      "      renard    0.0000       17\n",
      "\n",
      "Overall Accuracy: 0.1041\n",
      "Mean Per-Class Accuracy: 0.1041\n"
     ]
    }
   ],
   "execution_count": 39
  },
  {
   "cell_type": "markdown",
   "metadata": {},
   "source": [
    "## Model Summary and Results"
   ]
  },
  {
   "metadata": {
    "ExecuteTime": {
     "end_time": "2025-07-03T12:39:37.584232Z",
     "start_time": "2025-07-03T12:39:37.580979Z"
    }
   },
   "cell_type": "code",
   "source": [
    "print(\"MOBILENET TWO-STAGE TRAINING PIPELINE - FINAL RESULTS\")\n",
    "print(\"=\"*80)\n",
    "\n",
    "print(\"\\nCONFIGURATION:\")\n",
    "print(f\"- Architecture: MobileNetV3Small + Custom Classification Head\")\n",
    "print(f\"- Stage 1 Dataset: OAT ({len(oat_class_names)} classes)\")\n",
    "print(f\"- Stage 2 Dataset: Real ({len(real_class_names)} classes)\")\n",
    "\n",
    "print(\"\\nSTAGE 1 RESULTS (OAT Dataset):\")\n",
    "print(f\"- Test Accuracy: {stage1_test_accuracy:.4f}\")\n",
    "print(f\"- Test Loss: {stage1_test_loss:.4f}\")\n",
    "print(f\"- Epochs Trained: {len(stage1_history.history['loss'])}\")\n",
    "\n",
    "print(\"\\nSTAGE 2 RESULTS (Real Dataset):\")\n",
    "print(f\"- Validation Accuracy: {stage2_val_accuracy:.4f}\")\n",
    "print(f\"- Validation Loss: {stage2_val_loss:.4f}\")\n",
    "print(f\"- Epochs Trained: {len(stage2_history.history['loss'])}\")\n",
    "print(f\"- Overall Test Accuracy: {overall_accuracy:.4f}\")\n",
    "\n",
    "print(\"\\nSAVED MODELS:\")\n",
    "print(\"- mobilenet_oat_stage1.keras (Stage 1: OAT training)\")\n",
    "print(\"- mobilenet_real_stage2.keras (Stage 2: Real fine-tuning)\")"
   ],
   "outputs": [
    {
     "name": "stdout",
     "output_type": "stream",
     "text": [
      "MOBILENET TWO-STAGE TRAINING PIPELINE - FINAL RESULTS\n",
      "================================================================================\n",
      "\n",
      "CONFIGURATION:\n",
      "- Architecture: MobileNetV3Small + Custom Classification Head\n",
      "- Stage 1 Dataset: OAT (18 classes)\n",
      "- Stage 2 Dataset: Real (13 classes)\n",
      "\n",
      "STAGE 1 RESULTS (OAT Dataset):\n",
      "- Test Accuracy: 0.5146\n",
      "- Test Loss: 2.4543\n",
      "- Epochs Trained: 50\n",
      "\n",
      "STAGE 2 RESULTS (Real Dataset):\n",
      "- Validation Accuracy: 0.1041\n",
      "- Validation Loss: 3.2782\n",
      "- Epochs Trained: 7\n",
      "- Overall Test Accuracy: 0.1041\n",
      "\n",
      "SAVED MODELS:\n",
      "- mobilenet_oat_stage1.keras (Stage 1: OAT training)\n",
      "- mobilenet_real_stage2.keras (Stage 2: Real fine-tuning)\n"
     ]
    }
   ],
   "execution_count": 40
  },
  {
   "metadata": {},
   "cell_type": "code",
   "outputs": [],
   "execution_count": null,
   "source": ""
  }
 ],
 "metadata": {
  "kernelspec": {
   "display_name": "Tensorflow Hugo",
   "language": "python",
   "name": "tf"
  },
  "language_info": {
   "codemirror_mode": {
    "name": "ipython",
    "version": 3
   },
   "file_extension": ".py",
   "mimetype": "text/x-python",
   "name": "python",
   "nbconvert_exporter": "python",
   "pygments_lexer": "ipython3",
   "version": "3.8.10"
  }
 },
 "nbformat": 4,
 "nbformat_minor": 4
}
