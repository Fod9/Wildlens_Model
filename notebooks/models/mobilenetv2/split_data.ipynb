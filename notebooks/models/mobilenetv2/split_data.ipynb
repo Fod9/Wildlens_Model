{
 "cells": [
  {
   "cell_type": "markdown",
   "id": "a4818ad8",
   "metadata": {},
   "source": [
    "Séparation des données en 3 datasets :\n",
    "- train_data\n",
    "- val_data\n",
    "- test_data"
   ]
  },
  {
   "cell_type": "code",
   "execution_count": 7,
   "id": "3a458380",
   "metadata": {},
   "outputs": [],
   "source": [
    "import os\n",
    "import shutil\n",
    "from sklearn.model_selection import train_test_split"
   ]
  },
  {
   "cell_type": "code",
   "execution_count": 8,
   "id": "7057b8f2",
   "metadata": {},
   "outputs": [],
   "source": [
    "src_data_dir = \"../../../data/dataset_no_oat_downsample\"\n",
    "dest_data_dir = \"../../../data/dataset_no_oat_downsample_splited\""
   ]
  },
  {
   "cell_type": "code",
   "execution_count": 9,
   "id": "bb5e0837",
   "metadata": {},
   "outputs": [],
   "source": [
    "train_data_ratio = 0.7\n",
    "val_data_ratio = 0.2\n",
    "test_data_ratio = 0.1"
   ]
  },
  {
   "cell_type": "code",
   "execution_count": 10,
   "id": "b9459e1f",
   "metadata": {},
   "outputs": [
    {
     "name": "stdout",
     "output_type": "stream",
     "text": [
      "Classes des données sources : ['lynx', 'ours', 'chien', 'chat', 'coyotte', 'ecureuil', 'rat', 'renard', 'loup', 'lapin', 'raton_laveur', 'puma', 'castor']\n"
     ]
    }
   ],
   "source": [
    "splits = [\"train\", \"val\", \"test\"]\n",
    "classes = os.listdir(src_data_dir)\n",
    "print(\"Classes des données sources :\", classes)"
   ]
  },
  {
   "cell_type": "code",
   "execution_count": 11,
   "id": "1d80cc51",
   "metadata": {},
   "outputs": [],
   "source": [
    "for split in splits:\n",
    "    for cls in classes:\n",
    "        os.makedirs(os.path.join(dest_data_dir, split, cls), exist_ok=True)"
   ]
  },
  {
   "cell_type": "code",
   "execution_count": 12,
   "id": "f63f9e49",
   "metadata": {},
   "outputs": [],
   "source": [
    "for cls in classes:\n",
    "    cls_dir = os.path.join(src_data_dir, cls)\n",
    "    images = os.listdir(cls_dir)\n",
    "    \n",
    "    train_val, test = train_test_split(images, test_size=test_data_ratio, random_state=42)\n",
    "    train, val = train_test_split(train_val, test_size=val_data_ratio/(train_data_ratio + val_data_ratio), random_state=42)\n",
    "    \n",
    "    for img in train:\n",
    "        shutil.copy(os.path.join(cls_dir, img), os.path.join(dest_data_dir, 'train', cls, img))\n",
    "    for img in val:\n",
    "        shutil.copy(os.path.join(cls_dir, img), os.path.join(dest_data_dir, 'val', cls, img))\n",
    "    for img in test:\n",
    "        shutil.copy(os.path.join(cls_dir, img), os.path.join(dest_data_dir, 'test', cls, img))"
   ]
  }
 ],
 "metadata": {
  "kernelspec": {
   "display_name": "tensorflow",
   "language": "python",
   "name": "python3"
  },
  "language_info": {
   "codemirror_mode": {
    "name": "ipython",
    "version": 3
   },
   "file_extension": ".py",
   "mimetype": "text/x-python",
   "name": "python",
   "nbconvert_exporter": "python",
   "pygments_lexer": "ipython3",
   "version": "3.11.0"
  }
 },
 "nbformat": 4,
 "nbformat_minor": 5
}
